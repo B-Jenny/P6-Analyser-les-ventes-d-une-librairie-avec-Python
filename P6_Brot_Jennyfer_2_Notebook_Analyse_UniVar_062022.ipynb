{
 "cells": [
  {
   "cell_type": "code",
   "execution_count": 1,
   "id": "3b7bba9f",
   "metadata": {},
   "outputs": [],
   "source": [
    "# Importation des librairies\n",
    "import numpy as np\n",
    "import pandas as pd\n",
    "import seaborn as sns\n",
    "import matplotlib.pyplot as plt\n",
    "import datetime\n",
    "\n",
    "\n",
    "from matplotlib import gridspec\n",
    "from datetime import datetime"
   ]
  },
  {
   "cell_type": "code",
   "execution_count": 2,
   "id": "c676f328",
   "metadata": {},
   "outputs": [],
   "source": [
    "# Déclaration d'une fonction\n",
    "def analyseDataFrame(df):\n",
    "    \"\"\"Fonction qui prend en arguments un dataframe pour analyse.\"\"\"\n",
    "\n",
    "    name =[x for x in globals() if globals()[x] is df][0]\n",
    "    print(\"La dimension de DataFrame « \" + name  +\" » : \" + str(df.shape) + \" (lignes, colonnes)\\n\")\n",
    "    display(df.info())\n",
    "    display(df.head())\n",
    "    display(df.describe().T)\n",
    "    display(df.nunique())"
   ]
  },
  {
   "cell_type": "code",
   "execution_count": 3,
   "id": "0b41e8c0",
   "metadata": {},
   "outputs": [],
   "source": [
    "# Déclaration d'une fonction\n",
    "\n",
    "def make_labels(ax, boxplot, tab, s_col, p_col):\n",
    "    \n",
    "# Récupération des instances boxplot\n",
    "    iqr = boxplot['boxes'][0]\n",
    "    caps = boxplot['caps']\n",
    "    med = boxplot['medians'][0]\n",
    "    fly = boxplot['fliers'][0]\n",
    "\n",
    "# Positionnement x de la ligne médiane\n",
    "    xpos = med.get_xdata()\n",
    "\n",
    "# Texte positionné avec un décalage horizontale \n",
    "# Fraction de la largeur de la boxplot\n",
    "    xoff = 0.10 * (xpos[1] - xpos[0])\n",
    "\n",
    "# Position x des étiquettes\n",
    "    xlabel = xpos[1] + xoff\n",
    "\n",
    "# Position y de la ligne médiane\n",
    "    median = med.get_ydata()[1]\n",
    "\n",
    "# Position des 25ème et 75ème percentiles\n",
    "# Maximum et minimum de la boxplot\n",
    "    pc25 = iqr.get_ydata().min()\n",
    "    pc75 = iqr.get_ydata().max()\n",
    "\n",
    "# Position verticale des extrèmités de la boxplot\n",
    "    capbottom = caps[0].get_ydata()[0]\n",
    "    captop = caps[1].get_ydata()[0]\n",
    "\n",
    "# Faire des étiquettes en utilisant les valeurs dérivées ci-dessus\n",
    "    txt = \"[\"\n",
    "    for elem in tab[tab[s_col]==int(median)][p_col]:\n",
    "        txt = txt + str(elem) + \", \"\n",
    "    txt = p_col +txt[:-1]+\"]\"\n",
    "    ax.text(xlabel, median,\n",
    "            'Median = {:6.3g}'.format(median) + ' -> ' + txt, va='center')\n",
    "\n",
    "    print(\"Q1 =\", pc25)\n",
    "    txt = \"[\"\n",
    "    for elem in tab[tab[s_col]==int(pc25)][p_col]:\n",
    "        txt = txt + str(elem) + \", \"\n",
    "    txt = p_col +txt[:-1]+\"]\"\n",
    "    ax.text(xlabel, pc25,\n",
    "            '25th percentile = {:6.3g}'.format(pc25) + ' -> ' + txt, va='center')\n",
    "\n",
    "    print(\"Q3 =\", pc75)\n",
    "    txt = \"[\"\n",
    "    for elem in tab[tab[s_col]==int(pc75)][p_col]:\n",
    "        txt = txt + str(elem) + \", \"\n",
    "    txt = p_col +txt[:-1]+\"]\"\n",
    "    ax.text(xlabel, pc75,\n",
    "            '75th percentile = {:6.3g}'.format(pc75) + ' -> ' + txt, va='center')\n",
    "\n",
    "    Lower = (pc25 - 1.5*(pc75 - pc25)) \n",
    "    Upper = (pc75 + 1.5* (pc75 - pc25))\n",
    "    print(\"Borne minimum =\", Lower)\n",
    "    print(\"Borne maximum =\", Upper)\n",
    "\n",
    "    print( \"IQR = \", pc75 - pc25)\n",
    "\n",
    "    outliers = tab[(tab[s_col] > Upper) | (tab[s_col] < Lower)] #.sort_values(by=\"age\")\n",
    "    print(\"Nombre d'outliers = \" + str(len(outliers)))\n",
    "\n",
    "\n",
    "    txt = \"[\"\n",
    "    for elem in tab[tab[s_col]==int(capbottom)][p_col]:\n",
    "        txt = txt + str(elem) + \", \"\n",
    "    txt = p_col +txt[:-1]+\"]\"\n",
    "    ax.text(xlabel, capbottom,\n",
    "            'Bottom cap = {:6.3g}'.format(capbottom) + ' -> ' + txt, va='center')\n",
    "\n",
    "    \n",
    "    txt = \"[\"\n",
    "    for elem in tab[tab[s_col]==int(captop)][p_col]:\n",
    "        txt = txt + str(elem) + \", \"\n",
    "    txt = p_col +txt[:-1]+\"]\"\n",
    "    ax.text(xlabel, captop,\n",
    "            'Top cap = {:6.3g}'.format(captop) + ' -> ' + txt, va='center')\n",
    "\n",
    "# Création d'étiquettes pour les nombreux dépliants\n",
    "    for flier in fly.get_ydata():\n",
    "        AB = tab[tab[s_col]==flier][p_col][0]\n",
    "        Txt = 'Flier ={:4.3g}'.format(flier)+  f' -> {p_col}[{AB}]'\n",
    "        ax.text(1 + xoff, flier, Txt, va='center')"
   ]
  },
  {
   "cell_type": "code",
   "execution_count": 4,
   "id": "c22d3e06",
   "metadata": {},
   "outputs": [
    {
     "name": "stdout",
     "output_type": "stream",
     "text": [
      "La dimension de DataFrame « df_enrichi » : (679111, 11) (lignes, colonnes)\n",
      "\n",
      "<class 'pandas.core.frame.DataFrame'>\n",
      "DatetimeIndex: 679111 entries, 2021-03-01 00:01:07.843138 to 2023-02-28 23:58:30.792755\n",
      "Data columns (total 11 columns):\n",
      " #   Column      Non-Null Count   Dtype  \n",
      "---  ------      --------------   -----  \n",
      " 0   Unnamed: 0  679111 non-null  int64  \n",
      " 1   client_id   679111 non-null  object \n",
      " 2   sex         679111 non-null  object \n",
      " 3   birth       679111 non-null  float64\n",
      " 4   age         679111 non-null  float64\n",
      " 5   id_prod     679111 non-null  object \n",
      " 6   date        679111 non-null  object \n",
      " 7   session_id  679111 non-null  object \n",
      " 8   price       679111 non-null  float64\n",
      " 9   categ       679111 non-null  float64\n",
      " 10  _merge      679111 non-null  object \n",
      "dtypes: float64(4), int64(1), object(6)\n",
      "memory usage: 62.2+ MB\n"
     ]
    },
    {
     "data": {
      "text/plain": [
       "None"
      ]
     },
     "metadata": {},
     "output_type": "display_data"
    },
    {
     "data": {
      "text/html": [
       "<div>\n",
       "<style scoped>\n",
       "    .dataframe tbody tr th:only-of-type {\n",
       "        vertical-align: middle;\n",
       "    }\n",
       "\n",
       "    .dataframe tbody tr th {\n",
       "        vertical-align: top;\n",
       "    }\n",
       "\n",
       "    .dataframe thead th {\n",
       "        text-align: right;\n",
       "    }\n",
       "</style>\n",
       "<table border=\"1\" class=\"dataframe\">\n",
       "  <thead>\n",
       "    <tr style=\"text-align: right;\">\n",
       "      <th></th>\n",
       "      <th>Unnamed: 0</th>\n",
       "      <th>client_id</th>\n",
       "      <th>sex</th>\n",
       "      <th>birth</th>\n",
       "      <th>age</th>\n",
       "      <th>id_prod</th>\n",
       "      <th>date</th>\n",
       "      <th>session_id</th>\n",
       "      <th>price</th>\n",
       "      <th>categ</th>\n",
       "      <th>_merge</th>\n",
       "    </tr>\n",
       "    <tr>\n",
       "      <th>date_2</th>\n",
       "      <th></th>\n",
       "      <th></th>\n",
       "      <th></th>\n",
       "      <th></th>\n",
       "      <th></th>\n",
       "      <th></th>\n",
       "      <th></th>\n",
       "      <th></th>\n",
       "      <th></th>\n",
       "      <th></th>\n",
       "      <th></th>\n",
       "    </tr>\n",
       "  </thead>\n",
       "  <tbody>\n",
       "    <tr>\n",
       "      <th>2021-03-01 00:01:07.843138</th>\n",
       "      <td>129502</td>\n",
       "      <td>c_329</td>\n",
       "      <td>f</td>\n",
       "      <td>1967.0</td>\n",
       "      <td>55.0</td>\n",
       "      <td>0_1259</td>\n",
       "      <td>2021-03-01 00:01:07.843138</td>\n",
       "      <td>s_1</td>\n",
       "      <td>11.99</td>\n",
       "      <td>0.0</td>\n",
       "      <td>both</td>\n",
       "    </tr>\n",
       "    <tr>\n",
       "      <th>2021-03-01 00:02:26.047414</th>\n",
       "      <td>17306</td>\n",
       "      <td>c_664</td>\n",
       "      <td>m</td>\n",
       "      <td>1960.0</td>\n",
       "      <td>62.0</td>\n",
       "      <td>0_1390</td>\n",
       "      <td>2021-03-01 00:02:26.047414</td>\n",
       "      <td>s_2</td>\n",
       "      <td>19.37</td>\n",
       "      <td>0.0</td>\n",
       "      <td>both</td>\n",
       "    </tr>\n",
       "    <tr>\n",
       "      <th>2021-03-01 00:02:38.311413</th>\n",
       "      <td>146527</td>\n",
       "      <td>c_580</td>\n",
       "      <td>m</td>\n",
       "      <td>1988.0</td>\n",
       "      <td>34.0</td>\n",
       "      <td>0_1352</td>\n",
       "      <td>2021-03-01 00:02:38.311413</td>\n",
       "      <td>s_3</td>\n",
       "      <td>4.50</td>\n",
       "      <td>0.0</td>\n",
       "      <td>both</td>\n",
       "    </tr>\n",
       "    <tr>\n",
       "      <th>2021-03-01 00:04:54.559692</th>\n",
       "      <td>506717</td>\n",
       "      <td>c_7912</td>\n",
       "      <td>f</td>\n",
       "      <td>1989.0</td>\n",
       "      <td>33.0</td>\n",
       "      <td>0_1458</td>\n",
       "      <td>2021-03-01 00:04:54.559692</td>\n",
       "      <td>s_4</td>\n",
       "      <td>6.55</td>\n",
       "      <td>0.0</td>\n",
       "      <td>both</td>\n",
       "    </tr>\n",
       "    <tr>\n",
       "      <th>2021-03-01 00:05:18.801198</th>\n",
       "      <td>218220</td>\n",
       "      <td>c_2033</td>\n",
       "      <td>f</td>\n",
       "      <td>1956.0</td>\n",
       "      <td>66.0</td>\n",
       "      <td>0_1358</td>\n",
       "      <td>2021-03-01 00:05:18.801198</td>\n",
       "      <td>s_5</td>\n",
       "      <td>16.49</td>\n",
       "      <td>0.0</td>\n",
       "      <td>both</td>\n",
       "    </tr>\n",
       "  </tbody>\n",
       "</table>\n",
       "</div>"
      ],
      "text/plain": [
       "                            Unnamed: 0 client_id sex   birth   age id_prod  \\\n",
       "date_2                                                                       \n",
       "2021-03-01 00:01:07.843138      129502     c_329   f  1967.0  55.0  0_1259   \n",
       "2021-03-01 00:02:26.047414       17306     c_664   m  1960.0  62.0  0_1390   \n",
       "2021-03-01 00:02:38.311413      146527     c_580   m  1988.0  34.0  0_1352   \n",
       "2021-03-01 00:04:54.559692      506717    c_7912   f  1989.0  33.0  0_1458   \n",
       "2021-03-01 00:05:18.801198      218220    c_2033   f  1956.0  66.0  0_1358   \n",
       "\n",
       "                                                  date session_id  price  \\\n",
       "date_2                                                                     \n",
       "2021-03-01 00:01:07.843138  2021-03-01 00:01:07.843138        s_1  11.99   \n",
       "2021-03-01 00:02:26.047414  2021-03-01 00:02:26.047414        s_2  19.37   \n",
       "2021-03-01 00:02:38.311413  2021-03-01 00:02:38.311413        s_3   4.50   \n",
       "2021-03-01 00:04:54.559692  2021-03-01 00:04:54.559692        s_4   6.55   \n",
       "2021-03-01 00:05:18.801198  2021-03-01 00:05:18.801198        s_5  16.49   \n",
       "\n",
       "                            categ _merge  \n",
       "date_2                                    \n",
       "2021-03-01 00:01:07.843138    0.0   both  \n",
       "2021-03-01 00:02:26.047414    0.0   both  \n",
       "2021-03-01 00:02:38.311413    0.0   both  \n",
       "2021-03-01 00:04:54.559692    0.0   both  \n",
       "2021-03-01 00:05:18.801198    0.0   both  "
      ]
     },
     "metadata": {},
     "output_type": "display_data"
    },
    {
     "data": {
      "text/html": [
       "<div>\n",
       "<style scoped>\n",
       "    .dataframe tbody tr th:only-of-type {\n",
       "        vertical-align: middle;\n",
       "    }\n",
       "\n",
       "    .dataframe tbody tr th {\n",
       "        vertical-align: top;\n",
       "    }\n",
       "\n",
       "    .dataframe thead th {\n",
       "        text-align: right;\n",
       "    }\n",
       "</style>\n",
       "<table border=\"1\" class=\"dataframe\">\n",
       "  <thead>\n",
       "    <tr style=\"text-align: right;\">\n",
       "      <th></th>\n",
       "      <th>count</th>\n",
       "      <th>mean</th>\n",
       "      <th>std</th>\n",
       "      <th>min</th>\n",
       "      <th>25%</th>\n",
       "      <th>50%</th>\n",
       "      <th>75%</th>\n",
       "      <th>max</th>\n",
       "    </tr>\n",
       "  </thead>\n",
       "  <tbody>\n",
       "    <tr>\n",
       "      <th>Unnamed: 0</th>\n",
       "      <td>679111.0</td>\n",
       "      <td>339599.602812</td>\n",
       "      <td>196104.276737</td>\n",
       "      <td>0.00</td>\n",
       "      <td>169777.50</td>\n",
       "      <td>339555.00</td>\n",
       "      <td>509332.50</td>\n",
       "      <td>679331.0</td>\n",
       "    </tr>\n",
       "    <tr>\n",
       "      <th>birth</th>\n",
       "      <td>679111.0</td>\n",
       "      <td>1977.811149</td>\n",
       "      <td>13.575361</td>\n",
       "      <td>1929.00</td>\n",
       "      <td>1970.00</td>\n",
       "      <td>1980.00</td>\n",
       "      <td>1987.00</td>\n",
       "      <td>2004.0</td>\n",
       "    </tr>\n",
       "    <tr>\n",
       "      <th>age</th>\n",
       "      <td>679111.0</td>\n",
       "      <td>44.188851</td>\n",
       "      <td>13.575361</td>\n",
       "      <td>18.00</td>\n",
       "      <td>35.00</td>\n",
       "      <td>42.00</td>\n",
       "      <td>52.00</td>\n",
       "      <td>93.0</td>\n",
       "    </tr>\n",
       "    <tr>\n",
       "      <th>price</th>\n",
       "      <td>679111.0</td>\n",
       "      <td>17.454773</td>\n",
       "      <td>18.328998</td>\n",
       "      <td>0.62</td>\n",
       "      <td>8.87</td>\n",
       "      <td>13.99</td>\n",
       "      <td>18.99</td>\n",
       "      <td>300.0</td>\n",
       "    </tr>\n",
       "    <tr>\n",
       "      <th>categ</th>\n",
       "      <td>679111.0</td>\n",
       "      <td>0.441953</td>\n",
       "      <td>0.595042</td>\n",
       "      <td>0.00</td>\n",
       "      <td>0.00</td>\n",
       "      <td>0.00</td>\n",
       "      <td>1.00</td>\n",
       "      <td>2.0</td>\n",
       "    </tr>\n",
       "  </tbody>\n",
       "</table>\n",
       "</div>"
      ],
      "text/plain": [
       "               count           mean            std      min        25%  \\\n",
       "Unnamed: 0  679111.0  339599.602812  196104.276737     0.00  169777.50   \n",
       "birth       679111.0    1977.811149      13.575361  1929.00    1970.00   \n",
       "age         679111.0      44.188851      13.575361    18.00      35.00   \n",
       "price       679111.0      17.454773      18.328998     0.62       8.87   \n",
       "categ       679111.0       0.441953       0.595042     0.00       0.00   \n",
       "\n",
       "                  50%        75%       max  \n",
       "Unnamed: 0  339555.00  509332.50  679331.0  \n",
       "birth         1980.00    1987.00    2004.0  \n",
       "age             42.00      52.00      93.0  \n",
       "price           13.99      18.99     300.0  \n",
       "categ            0.00       1.00       2.0  "
      ]
     },
     "metadata": {},
     "output_type": "display_data"
    },
    {
     "data": {
      "text/plain": [
       "Unnamed: 0    679111\n",
       "client_id       8600\n",
       "sex                2\n",
       "birth             76\n",
       "age               76\n",
       "id_prod         3265\n",
       "date          679111\n",
       "session_id    342275\n",
       "price           1442\n",
       "categ              3\n",
       "_merge             1\n",
       "dtype: int64"
      ]
     },
     "metadata": {},
     "output_type": "display_data"
    }
   ],
   "source": [
    "# Importation du dataFrame 'df_enrichi'\n",
    "df_enrichi = pd.read_csv(\"df_enrichi.csv\", index_col=\"date_2\", parse_dates= True)\n",
    "\n",
    "# Vérifier que la première colonne est une idex\n",
    "df_enrichi.index = pd.to_datetime(df_enrichi.index)\n",
    "\n",
    "# Trier sur la colonne date\n",
    "df_enrichi = df_enrichi.sort_index()\n",
    "\n",
    "# Visualisualisation de df_enrichi\n",
    "analyseDataFrame(df_enrichi)"
   ]
  },
  {
   "cell_type": "markdown",
   "id": "3f555e51",
   "metadata": {},
   "source": [
    "# 1 - Analyse univariée"
   ]
  },
  {
   "cell_type": "markdown",
   "id": "5d5c4985",
   "metadata": {},
   "source": [
    "### 1.1 Analyse univariée \"age\""
   ]
  },
  {
   "cell_type": "code",
   "execution_count": 5,
   "id": "695823e4",
   "metadata": {},
   "outputs": [
    {
     "name": "stdout",
     "output_type": "stream",
     "text": [
      "La dimension de DataFrame « df_age_client » : (8600, 3) (lignes, colonnes)\n",
      "\n",
      "<class 'pandas.core.frame.DataFrame'>\n",
      "DatetimeIndex: 8600 entries, 2021-03-01 00:01:07.843138 to 2022-02-18 23:45:11.375521\n",
      "Data columns (total 3 columns):\n",
      " #   Column     Non-Null Count  Dtype  \n",
      "---  ------     --------------  -----  \n",
      " 0   client_id  8600 non-null   object \n",
      " 1   age        8600 non-null   float64\n",
      " 2   sex        8600 non-null   object \n",
      "dtypes: float64(1), object(2)\n",
      "memory usage: 268.8+ KB\n"
     ]
    },
    {
     "data": {
      "text/plain": [
       "None"
      ]
     },
     "metadata": {},
     "output_type": "display_data"
    },
    {
     "data": {
      "text/html": [
       "<div>\n",
       "<style scoped>\n",
       "    .dataframe tbody tr th:only-of-type {\n",
       "        vertical-align: middle;\n",
       "    }\n",
       "\n",
       "    .dataframe tbody tr th {\n",
       "        vertical-align: top;\n",
       "    }\n",
       "\n",
       "    .dataframe thead th {\n",
       "        text-align: right;\n",
       "    }\n",
       "</style>\n",
       "<table border=\"1\" class=\"dataframe\">\n",
       "  <thead>\n",
       "    <tr style=\"text-align: right;\">\n",
       "      <th></th>\n",
       "      <th>client_id</th>\n",
       "      <th>age</th>\n",
       "      <th>sex</th>\n",
       "    </tr>\n",
       "    <tr>\n",
       "      <th>date_2</th>\n",
       "      <th></th>\n",
       "      <th></th>\n",
       "      <th></th>\n",
       "    </tr>\n",
       "  </thead>\n",
       "  <tbody>\n",
       "    <tr>\n",
       "      <th>2021-03-01 00:01:07.843138</th>\n",
       "      <td>c_329</td>\n",
       "      <td>55.0</td>\n",
       "      <td>f</td>\n",
       "    </tr>\n",
       "    <tr>\n",
       "      <th>2021-03-01 00:02:26.047414</th>\n",
       "      <td>c_664</td>\n",
       "      <td>62.0</td>\n",
       "      <td>m</td>\n",
       "    </tr>\n",
       "    <tr>\n",
       "      <th>2021-03-01 00:02:38.311413</th>\n",
       "      <td>c_580</td>\n",
       "      <td>34.0</td>\n",
       "      <td>m</td>\n",
       "    </tr>\n",
       "    <tr>\n",
       "      <th>2021-03-01 00:04:54.559692</th>\n",
       "      <td>c_7912</td>\n",
       "      <td>33.0</td>\n",
       "      <td>f</td>\n",
       "    </tr>\n",
       "    <tr>\n",
       "      <th>2021-03-01 00:05:18.801198</th>\n",
       "      <td>c_2033</td>\n",
       "      <td>66.0</td>\n",
       "      <td>f</td>\n",
       "    </tr>\n",
       "  </tbody>\n",
       "</table>\n",
       "</div>"
      ],
      "text/plain": [
       "                           client_id   age sex\n",
       "date_2                                        \n",
       "2021-03-01 00:01:07.843138     c_329  55.0   f\n",
       "2021-03-01 00:02:26.047414     c_664  62.0   m\n",
       "2021-03-01 00:02:38.311413     c_580  34.0   m\n",
       "2021-03-01 00:04:54.559692    c_7912  33.0   f\n",
       "2021-03-01 00:05:18.801198    c_2033  66.0   f"
      ]
     },
     "metadata": {},
     "output_type": "display_data"
    },
    {
     "data": {
      "text/html": [
       "<div>\n",
       "<style scoped>\n",
       "    .dataframe tbody tr th:only-of-type {\n",
       "        vertical-align: middle;\n",
       "    }\n",
       "\n",
       "    .dataframe tbody tr th {\n",
       "        vertical-align: top;\n",
       "    }\n",
       "\n",
       "    .dataframe thead th {\n",
       "        text-align: right;\n",
       "    }\n",
       "</style>\n",
       "<table border=\"1\" class=\"dataframe\">\n",
       "  <thead>\n",
       "    <tr style=\"text-align: right;\">\n",
       "      <th></th>\n",
       "      <th>count</th>\n",
       "      <th>mean</th>\n",
       "      <th>std</th>\n",
       "      <th>min</th>\n",
       "      <th>25%</th>\n",
       "      <th>50%</th>\n",
       "      <th>75%</th>\n",
       "      <th>max</th>\n",
       "    </tr>\n",
       "  </thead>\n",
       "  <tbody>\n",
       "    <tr>\n",
       "      <th>age</th>\n",
       "      <td>8600.0</td>\n",
       "      <td>43.739302</td>\n",
       "      <td>16.908755</td>\n",
       "      <td>18.0</td>\n",
       "      <td>30.0</td>\n",
       "      <td>43.0</td>\n",
       "      <td>56.0</td>\n",
       "      <td>93.0</td>\n",
       "    </tr>\n",
       "  </tbody>\n",
       "</table>\n",
       "</div>"
      ],
      "text/plain": [
       "      count       mean        std   min   25%   50%   75%   max\n",
       "age  8600.0  43.739302  16.908755  18.0  30.0  43.0  56.0  93.0"
      ]
     },
     "metadata": {},
     "output_type": "display_data"
    },
    {
     "data": {
      "text/plain": [
       "client_id    8600\n",
       "age            76\n",
       "sex             2\n",
       "dtype: int64"
      ]
     },
     "metadata": {},
     "output_type": "display_data"
    }
   ],
   "source": [
    "# Création df pour l'analyse univariée age\n",
    "df_age_client = df_enrichi[[\"client_id\", \"age\",\"sex\"]].drop_duplicates()\n",
    "\n",
    "# Visualisation de df_age_client\n",
    "analyseDataFrame(df_age_client)"
   ]
  },
  {
   "cell_type": "code",
   "execution_count": 6,
   "id": "ecd494c8",
   "metadata": {},
   "outputs": [
    {
     "data": {
      "text/plain": [
       "<Figure size 720x720 with 0 Axes>"
      ]
     },
     "metadata": {},
     "output_type": "display_data"
    },
    {
     "data": {
      "image/png": "[encoded data removed]",
      "text/plain": [
       "<Figure size 360x360 with 1 Axes>"
      ]
     },
     "metadata": {
      "needs_background": "light"
     },
     "output_type": "display_data"
    }
   ],
   "source": [
    "# Visualisation de la distribution de la variable age avec displot\n",
    "plt.figure(figsize=(10,10))\n",
    "sns.displot(df_age_client, x=\"age\",)\n",
    "plt.title(\"Âge\",size=20)\n",
    "plt.xlabel(\"age\",size=15)\n",
    "plt.legend([\"age\"])\n",
    "plt.show()"
   ]
  },
  {
   "cell_type": "code",
   "execution_count": 7,
   "id": "4a0d9afe",
   "metadata": {},
   "outputs": [
    {
     "name": "stdout",
     "output_type": "stream",
     "text": [
      "Moyenne: 43.74\n",
      "Médiane: 43.0\n",
      "Mode: 18.0\n",
      "Variance: 285.87\n",
      "Écart type: 16.91\n",
      "Min: 18.0\n",
      "Max: 93.0\n",
      "Coefficient d'asymétrie skewness: 0.36\n",
      "Coefficient d'asymétrie kurtosis: -0.63\n"
     ]
    }
   ],
   "source": [
    "# Affichage des différentes valeurs concernant l'âge\n",
    "print(\"Moyenne:\", round(df_age_client[\"age\"].mean(),2))\n",
    "print(\"Médiane:\", round(df_age_client[\"age\"].median(),2))\n",
    "print(\"Mode:\", round(df_age_client[\"age\"].mode()[0],2))\n",
    "print(\"Variance:\", round(df_age_client[\"age\"].var(ddof=0),2))\n",
    "print(\"Écart type:\", round(df_age_client[\"age\"].std(ddof=0),2))\n",
    "print(\"Min:\", round(df_age_client[\"age\"].min(),2))\n",
    "print(\"Max:\", round(df_age_client[\"age\"].max(),2))\n",
    "print(\"Coefficient d'asymétrie skewness:\", round(df_age_client[\"age\"].skew(),2))\n",
    "print(\"Coefficient d'asymétrie kurtosis:\", round(df_age_client[\"age\"].kurtosis(),2))"
   ]
  },
  {
   "cell_type": "code",
   "execution_count": 8,
   "id": "6b022f5d",
   "metadata": {
    "scrolled": true
   },
   "outputs": [
    {
     "name": "stdout",
     "output_type": "stream",
     "text": [
      "Q1 = 39.75\n",
      "Q3 = 159.25\n",
      "Borne minimum = -139.5\n",
      "Borne maximum = 338.5\n",
      "IQR =  119.5\n",
      "Nombre d'outliers = 1\n"
     ]
    },
    {
     "data": {
      "image/png": "[encoded data removed]",
      "text/plain": [
       "<Figure size 1080x432 with 1 Axes>"
      ]
     },
     "metadata": {
      "needs_background": "light"
     },
     "output_type": "display_data"
    }
   ],
   "source": [
    "# Visualisation avec boxplot\n",
    "\n",
    "effectifs = df_age_client[\"age\"].value_counts()\n",
    "# L'index de effectifs contient les modalités\n",
    "modalites = effectifs.index \n",
    "\n",
    "# Création du tableau à partir des modalités\n",
    "tab = pd.DataFrame(modalites, columns = [\"age\"]) # création du tableau à partir des modalités\n",
    "tab[\"n\"] = effectifs.values\n",
    "\n",
    "red_diamond = dict(markerfacecolor='r', marker='D')\n",
    "fig3, ax3 = plt.subplots( figsize=(15, 6))\n",
    "ax3.set_title(\"\"\"Boxplot pour l'analyse de la variable age\"\"\")\n",
    "\n",
    "# Création Boxplot et stockage du dictionnaire python \n",
    "my_boxplot = ax3.boxplot(tab[\"n\"], flierprops=red_diamond,  whis=1.5)\n",
    "\n",
    "# Appelle la fonction pour créer les étiquettes\n",
    "make_labels(ax3, my_boxplot, tab, \"n\", \"age\")\n",
    "\n",
    "plt.show()"
   ]
  },
  {
   "cell_type": "markdown",
   "id": "aefa8ae8",
   "metadata": {},
   "source": [
    "### 1.2 Analyse univariée \"sex\""
   ]
  },
  {
   "cell_type": "code",
   "execution_count": 9,
   "id": "d6dcccaf",
   "metadata": {},
   "outputs": [
    {
     "data": {
      "text/html": [
       "<div>\n",
       "<style scoped>\n",
       "    .dataframe tbody tr th:only-of-type {\n",
       "        vertical-align: middle;\n",
       "    }\n",
       "\n",
       "    .dataframe tbody tr th {\n",
       "        vertical-align: top;\n",
       "    }\n",
       "\n",
       "    .dataframe thead th {\n",
       "        text-align: right;\n",
       "    }\n",
       "</style>\n",
       "<table border=\"1\" class=\"dataframe\">\n",
       "  <thead>\n",
       "    <tr style=\"text-align: right;\">\n",
       "      <th></th>\n",
       "      <th>sex</th>\n",
       "      <th>total</th>\n",
       "      <th>pourcentage</th>\n",
       "      <th>pourcentages_cumulés</th>\n",
       "    </tr>\n",
       "  </thead>\n",
       "  <tbody>\n",
       "    <tr>\n",
       "      <th>1</th>\n",
       "      <td>f</td>\n",
       "      <td>338285</td>\n",
       "      <td>49.81</td>\n",
       "      <td>49.81</td>\n",
       "    </tr>\n",
       "    <tr>\n",
       "      <th>0</th>\n",
       "      <td>m</td>\n",
       "      <td>340826</td>\n",
       "      <td>50.19</td>\n",
       "      <td>100.00</td>\n",
       "    </tr>\n",
       "  </tbody>\n",
       "</table>\n",
       "</div>"
      ],
      "text/plain": [
       "  sex   total  pourcentage  pourcentages_cumulés\n",
       "1   f  338285        49.81                 49.81\n",
       "0   m  340826        50.19                100.00"
      ]
     },
     "execution_count": 9,
     "metadata": {},
     "output_type": "execute_result"
    }
   ],
   "source": [
    "effectifs_sex = df_enrichi[\"sex\"].value_counts()\n",
    "modalités_sex = effectifs_sex.index\n",
    "Sex = pd.DataFrame(modalités_sex, columns = [\"sex\"])\n",
    "Sex[\"total\"] = effectifs_sex.values\n",
    "Sex[\"pourcentage\"] = round(Sex[\"total\"] / len(df_enrichi) * 100,2)\n",
    "Sex = Sex.sort_values(\"sex\")\n",
    "Sex[\"pourcentages_cumulés\"] = round(Sex[\"pourcentage\"].cumsum(),2)\n",
    "Sex"
   ]
  },
  {
   "cell_type": "code",
   "execution_count": 136,
   "id": "4f1b0fbe",
   "metadata": {},
   "outputs": [
    {
     "name": "stdout",
     "output_type": "stream",
     "text": [
      "Nombre total des clients :  8600\n"
     ]
    },
    {
     "data": {
      "image/png": "[encoded data removed]",
      "text/plain": [
       "<Figure size 720x720 with 1 Axes>"
      ]
     },
     "metadata": {},
     "output_type": "display_data"
    }
   ],
   "source": [
    "# visualisation de la variable sex avec piechart\n",
    "df_clients = df_enrichi[['client_id', 'sex']]\n",
    "df_clients = df_clients.drop_duplicates()\n",
    "nbr_total_clients = len(df_clients)\n",
    "print(\"Nombre total des clients : \", nbr_total_clients)\n",
    "\n",
    "plt.figure(figsize=(10,10))\n",
    "#df_enrichi.sex.value_counts(normalize = True).plot(kind=\"pie\", autopct = lambda x: str(round(x, 2)) + '%')\n",
    "df_clients.sex.value_counts(normalize = True).plot(kind=\"pie\", \n",
    "                                                   autopct = lambda x: f'{x / 100 * nbr_total_clients:.0f}\\n'+str(round(x, 2)) + '%'\n",
    "                                                   , textprops={'fontsize': 20}\n",
    "                                                   , colors= ['hotpink', 'dodgerblue' ])\n",
    "\n",
    "\n",
    "plt.legend()\n",
    "plt.axis(\"equal\")\n",
    "plt.show()"
   ]
  },
  {
   "cell_type": "code",
   "execution_count": 133,
   "id": "af4c0f0d",
   "metadata": {},
   "outputs": [
    {
     "name": "stdout",
     "output_type": "stream",
     "text": [
      "Nombre total des transactions :  679111\n"
     ]
    },
    {
     "data": {
      "image/png": "[encoded data removed]",
      "text/plain": [
       "<Figure size 720x720 with 1 Axes>"
      ]
     },
     "metadata": {},
     "output_type": "display_data"
    }
   ],
   "source": [
    "# visualisation de la variable sex avec piechart\n",
    "\n",
    "nbr_total_transactions = len(df_enrichi)\n",
    "print(\"Nombre total des transactions : \", nbr_total_transactions)\n",
    "\n",
    "plt.figure(figsize=(10,10))\n",
    "#df_enrichi.sex.value_counts(normalize = True).plot(kind=\"pie\", autopct = lambda x: str(round(x, 2)) + '%')\n",
    "df_enrichi.sex.value_counts(normalize = True).plot(kind=\"pie\", \n",
    "                                                   autopct = lambda x: f'{x / 100 * nbr_total_transactions:.0f}\\n'+str(round(x, 2)) + '%'\n",
    "                                                   , textprops={'fontsize': 20}\n",
    "                                                  , colors= ['dodgerblue', 'hotpink']\n",
    "                                                  , startangle=180)\n",
    "\n",
    "\n",
    "plt.legend()\n",
    "plt.axis(\"equal\")\n",
    "plt.show()"
   ]
  },
  {
   "cell_type": "markdown",
   "id": "6a5393b8",
   "metadata": {},
   "source": [
    "### 1.3 Analyse univariée \"price\""
   ]
  },
  {
   "cell_type": "code",
   "execution_count": 11,
   "id": "6a150740",
   "metadata": {},
   "outputs": [
    {
     "data": {
      "text/html": [
       "<div>\n",
       "<style scoped>\n",
       "    .dataframe tbody tr th:only-of-type {\n",
       "        vertical-align: middle;\n",
       "    }\n",
       "\n",
       "    .dataframe tbody tr th {\n",
       "        vertical-align: top;\n",
       "    }\n",
       "\n",
       "    .dataframe thead th {\n",
       "        text-align: right;\n",
       "    }\n",
       "</style>\n",
       "<table border=\"1\" class=\"dataframe\">\n",
       "  <thead>\n",
       "    <tr style=\"text-align: right;\">\n",
       "      <th></th>\n",
       "      <th>price</th>\n",
       "      <th>total</th>\n",
       "      <th>pourcentage</th>\n",
       "      <th>pourcentages_cumulés</th>\n",
       "    </tr>\n",
       "  </thead>\n",
       "  <tbody>\n",
       "    <tr>\n",
       "      <th>1102</th>\n",
       "      <td>0.62</td>\n",
       "      <td>18</td>\n",
       "      <td>0.00</td>\n",
       "      <td>0.00</td>\n",
       "    </tr>\n",
       "    <tr>\n",
       "      <th>1153</th>\n",
       "      <td>0.66</td>\n",
       "      <td>15</td>\n",
       "      <td>0.00</td>\n",
       "      <td>0.00</td>\n",
       "    </tr>\n",
       "    <tr>\n",
       "      <th>1370</th>\n",
       "      <td>0.77</td>\n",
       "      <td>5</td>\n",
       "      <td>0.00</td>\n",
       "      <td>0.00</td>\n",
       "    </tr>\n",
       "    <tr>\n",
       "      <th>1084</th>\n",
       "      <td>0.81</td>\n",
       "      <td>19</td>\n",
       "      <td>0.00</td>\n",
       "      <td>0.00</td>\n",
       "    </tr>\n",
       "    <tr>\n",
       "      <th>1318</th>\n",
       "      <td>0.88</td>\n",
       "      <td>7</td>\n",
       "      <td>0.00</td>\n",
       "      <td>0.00</td>\n",
       "    </tr>\n",
       "    <tr>\n",
       "      <th>...</th>\n",
       "      <td>...</td>\n",
       "      <td>...</td>\n",
       "      <td>...</td>\n",
       "      <td>...</td>\n",
       "    </tr>\n",
       "    <tr>\n",
       "      <th>1325</th>\n",
       "      <td>233.54</td>\n",
       "      <td>7</td>\n",
       "      <td>0.00</td>\n",
       "      <td>99.21</td>\n",
       "    </tr>\n",
       "    <tr>\n",
       "      <th>505</th>\n",
       "      <td>236.99</td>\n",
       "      <td>189</td>\n",
       "      <td>0.03</td>\n",
       "      <td>99.24</td>\n",
       "    </tr>\n",
       "    <tr>\n",
       "      <th>589</th>\n",
       "      <td>247.22</td>\n",
       "      <td>142</td>\n",
       "      <td>0.02</td>\n",
       "      <td>99.26</td>\n",
       "    </tr>\n",
       "    <tr>\n",
       "      <th>1278</th>\n",
       "      <td>254.44</td>\n",
       "      <td>9</td>\n",
       "      <td>0.00</td>\n",
       "      <td>99.26</td>\n",
       "    </tr>\n",
       "    <tr>\n",
       "      <th>1150</th>\n",
       "      <td>300.00</td>\n",
       "      <td>15</td>\n",
       "      <td>0.00</td>\n",
       "      <td>99.26</td>\n",
       "    </tr>\n",
       "  </tbody>\n",
       "</table>\n",
       "<p>1442 rows × 4 columns</p>\n",
       "</div>"
      ],
      "text/plain": [
       "       price  total  pourcentage  pourcentages_cumulés\n",
       "1102    0.62     18         0.00                  0.00\n",
       "1153    0.66     15         0.00                  0.00\n",
       "1370    0.77      5         0.00                  0.00\n",
       "1084    0.81     19         0.00                  0.00\n",
       "1318    0.88      7         0.00                  0.00\n",
       "...      ...    ...          ...                   ...\n",
       "1325  233.54      7         0.00                 99.21\n",
       "505   236.99    189         0.03                 99.24\n",
       "589   247.22    142         0.02                 99.26\n",
       "1278  254.44      9         0.00                 99.26\n",
       "1150  300.00     15         0.00                 99.26\n",
       "\n",
       "[1442 rows x 4 columns]"
      ]
     },
     "execution_count": 11,
     "metadata": {},
     "output_type": "execute_result"
    }
   ],
   "source": [
    "effectifs_price = df_enrichi[\"price\"].value_counts().to_frame()\n",
    "modalités_price = effectifs_price.index\n",
    "Price = pd.DataFrame(modalités_price, columns = [\"price\"])\n",
    "Price[\"total\"] = effectifs_price.values\n",
    "Price[\"pourcentage\"] = round(Price[\"total\"] / len(df_enrichi) * 100,2)\n",
    "Price = Price.sort_values(\"price\")\n",
    "Price[\"pourcentages_cumulés\"] = round(Price[\"pourcentage\"].cumsum(),2)\n",
    "Price"
   ]
  },
  {
   "cell_type": "code",
   "execution_count": 12,
   "id": "af35256c",
   "metadata": {},
   "outputs": [
    {
     "data": {
      "text/plain": [
       "<Figure size 720x720 with 0 Axes>"
      ]
     },
     "metadata": {},
     "output_type": "display_data"
    },
    {
     "data": {
      "image/png": "[encoded data removed]",
      "text/plain": [
       "<Figure size 360x360 with 1 Axes>"
      ]
     },
     "metadata": {
      "needs_background": "light"
     },
     "output_type": "display_data"
    }
   ],
   "source": [
    "# Visualisation de la distribution de la variable price avec displot\n",
    "plt.figure(figsize=(10,10))\n",
    "sns.displot(df_enrichi, x=\"price\", bins=300, binwidth=5)\n",
    "plt.title(\"Price\",size=20)\n",
    "plt.xlabel(\"price\",size=15)\n",
    "plt.legend([\"price\"])\n",
    "plt.show()"
   ]
  },
  {
   "cell_type": "code",
   "execution_count": 13,
   "id": "bc54a5ae",
   "metadata": {},
   "outputs": [
    {
     "name": "stdout",
     "output_type": "stream",
     "text": [
      "Moyenne price: 17.45\n",
      "Médiane price: 13.99\n",
      "Mode price: 15.99\n",
      "Variance price: 335.95\n",
      "Écart type price: 18.33\n",
      "Min price; 0.62\n",
      "Max price; 300.0\n",
      "Coefficient d'asymétrie skewness price: 5.39\n",
      "Coefficient d'asymétrie kurtosis price: 43.07\n"
     ]
    }
   ],
   "source": [
    "# Visualisation des tendances des prix\n",
    "print(\"Moyenne price:\", round(df_enrichi[\"price\"].mean(),2))\n",
    "print(\"Médiane price:\", round(df_enrichi[\"price\"].median(),2))\n",
    "print(\"Mode price:\", round(df_enrichi[\"price\"].mode()[0],2))\n",
    "print(\"Variance price:\", round(df_enrichi[\"price\"].var(ddof=0),2))\n",
    "print(\"Écart type price:\", round(df_enrichi[\"price\"].std(ddof=0),2))\n",
    "print(\"Min price;\", round(df_enrichi[\"price\"].min(),2))\n",
    "print(\"Max price;\", round(df_enrichi[\"price\"].max(),2))\n",
    "print(\"Coefficient d'asymétrie skewness price:\", round(df_enrichi[\"price\"].skew(),2))\n",
    "print(\"Coefficient d'asymétrie kurtosis price:\", round(df_enrichi[\"price\"].kurtosis(),2))"
   ]
  },
  {
   "cell_type": "code",
   "execution_count": 14,
   "id": "bf49f043",
   "metadata": {},
   "outputs": [
    {
     "name": "stdout",
     "output_type": "stream",
     "text": [
      "Q1 = 20.0\n",
      "Q3 = 340.5\n",
      "Borne minimum = -460.75\n",
      "Borne maximum = 821.25\n",
      "IQR =  320.5\n",
      "Nombre d'outliers = 165\n"
     ]
    },
    {
     "data": {
      "image/png": "[encoded data removed]",
      "text/plain": [
       "<Figure size 720x720 with 1 Axes>"
      ]
     },
     "metadata": {
      "needs_background": "light"
     },
     "output_type": "display_data"
    }
   ],
   "source": [
    "# Calcul interquartile\n",
    "Q1= df_enrichi[\"price\"].value_counts().quantile(q=0.25)\n",
    "Q3= df_enrichi[\"price\"].value_counts().quantile(q=0.75)\n",
    "\n",
    "IQR= Q3 - Q1 \n",
    "\n",
    "# Calcul des valeurs extrêmes\n",
    "Lower = (Q1 - 1.5*IQR) \n",
    "Upper = (Q3 + 1.5*IQR)\n",
    "\n",
    "# Outliers\n",
    "outliers_price = effectifs_price[(effectifs_price.price > Upper) | (effectifs_price.price < Lower)]\n",
    "\n",
    "# Visualisation\n",
    "print(\"Q1 =\", Q1)\n",
    "print(\"Q3 =\", Q3)\n",
    "print(\"Borne minimum =\", Lower)\n",
    "print(\"Borne maximum =\", Upper)\n",
    "print(\"IQR = \", IQR)\n",
    "print(\"Nombre d'outliers = \" + str(len(outliers_price)))\n",
    "\n",
    "# Visualisation avec boxplot\n",
    "plt.figure(figsize=(10,10))\n",
    "my_boxplot_price = plt.boxplot(df_enrichi[\"price\"].value_counts())\n",
    "plt.title(\"Price\",size=20)\n",
    "plt.xlabel(\"price\",size=15)\n",
    "plt.legend([\"price\"])\n",
    "plt.show()"
   ]
  },
  {
   "cell_type": "code",
   "execution_count": 15,
   "id": "9f51abf2",
   "metadata": {},
   "outputs": [
    {
     "data": {
      "text/html": [
       "<div>\n",
       "<style scoped>\n",
       "    .dataframe tbody tr th:only-of-type {\n",
       "        vertical-align: middle;\n",
       "    }\n",
       "\n",
       "    .dataframe tbody tr th {\n",
       "        vertical-align: top;\n",
       "    }\n",
       "\n",
       "    .dataframe thead th {\n",
       "        text-align: right;\n",
       "    }\n",
       "</style>\n",
       "<table border=\"1\" class=\"dataframe\">\n",
       "  <thead>\n",
       "    <tr style=\"text-align: right;\">\n",
       "      <th></th>\n",
       "      <th>price</th>\n",
       "    </tr>\n",
       "  </thead>\n",
       "  <tbody>\n",
       "    <tr>\n",
       "      <th>15.99</th>\n",
       "      <td>21361</td>\n",
       "    </tr>\n",
       "    <tr>\n",
       "      <th>4.99</th>\n",
       "      <td>18634</td>\n",
       "    </tr>\n",
       "    <tr>\n",
       "      <th>10.99</th>\n",
       "      <td>17981</td>\n",
       "    </tr>\n",
       "    <tr>\n",
       "      <th>3.99</th>\n",
       "      <td>17351</td>\n",
       "    </tr>\n",
       "    <tr>\n",
       "      <th>11.99</th>\n",
       "      <td>16426</td>\n",
       "    </tr>\n",
       "    <tr>\n",
       "      <th>...</th>\n",
       "      <td>...</td>\n",
       "    </tr>\n",
       "    <tr>\n",
       "      <th>5.15</th>\n",
       "      <td>845</td>\n",
       "    </tr>\n",
       "    <tr>\n",
       "      <th>4.62</th>\n",
       "      <td>839</td>\n",
       "    </tr>\n",
       "    <tr>\n",
       "      <th>8.32</th>\n",
       "      <td>839</td>\n",
       "    </tr>\n",
       "    <tr>\n",
       "      <th>11.85</th>\n",
       "      <td>835</td>\n",
       "    </tr>\n",
       "    <tr>\n",
       "      <th>54.87</th>\n",
       "      <td>831</td>\n",
       "    </tr>\n",
       "  </tbody>\n",
       "</table>\n",
       "<p>165 rows × 1 columns</p>\n",
       "</div>"
      ],
      "text/plain": [
       "       price\n",
       "15.99  21361\n",
       "4.99   18634\n",
       "10.99  17981\n",
       "3.99   17351\n",
       "11.99  16426\n",
       "...      ...\n",
       "5.15     845\n",
       "4.62     839\n",
       "8.32     839\n",
       "11.85    835\n",
       "54.87    831\n",
       "\n",
       "[165 rows x 1 columns]"
      ]
     },
     "execution_count": 15,
     "metadata": {},
     "output_type": "execute_result"
    }
   ],
   "source": [
    "outliers_price"
   ]
  },
  {
   "cell_type": "markdown",
   "id": "74d0fb54",
   "metadata": {},
   "source": [
    "### 1.4 Analyse univariée \"categ\""
   ]
  },
  {
   "cell_type": "code",
   "execution_count": 16,
   "id": "2ee57c29",
   "metadata": {},
   "outputs": [
    {
     "data": {
      "text/html": [
       "<div>\n",
       "<style scoped>\n",
       "    .dataframe tbody tr th:only-of-type {\n",
       "        vertical-align: middle;\n",
       "    }\n",
       "\n",
       "    .dataframe tbody tr th {\n",
       "        vertical-align: top;\n",
       "    }\n",
       "\n",
       "    .dataframe thead th {\n",
       "        text-align: right;\n",
       "    }\n",
       "</style>\n",
       "<table border=\"1\" class=\"dataframe\">\n",
       "  <thead>\n",
       "    <tr style=\"text-align: right;\">\n",
       "      <th></th>\n",
       "      <th>categ</th>\n",
       "      <th>total</th>\n",
       "      <th>pourcentage</th>\n",
       "      <th>pourcentages_cumulés</th>\n",
       "    </tr>\n",
       "  </thead>\n",
       "  <tbody>\n",
       "    <tr>\n",
       "      <th>0</th>\n",
       "      <td>0.0</td>\n",
       "      <td>415459</td>\n",
       "      <td>61.18</td>\n",
       "      <td>61.18</td>\n",
       "    </tr>\n",
       "    <tr>\n",
       "      <th>1</th>\n",
       "      <td>1.0</td>\n",
       "      <td>227169</td>\n",
       "      <td>33.45</td>\n",
       "      <td>94.63</td>\n",
       "    </tr>\n",
       "    <tr>\n",
       "      <th>2</th>\n",
       "      <td>2.0</td>\n",
       "      <td>36483</td>\n",
       "      <td>5.37</td>\n",
       "      <td>100.00</td>\n",
       "    </tr>\n",
       "  </tbody>\n",
       "</table>\n",
       "</div>"
      ],
      "text/plain": [
       "   categ   total  pourcentage  pourcentages_cumulés\n",
       "0    0.0  415459        61.18                 61.18\n",
       "1    1.0  227169        33.45                 94.63\n",
       "2    2.0   36483         5.37                100.00"
      ]
     },
     "execution_count": 16,
     "metadata": {},
     "output_type": "execute_result"
    }
   ],
   "source": [
    "effectifs_categ = df_enrichi[\"categ\"].value_counts()\n",
    "modalités_categ = effectifs_categ.index\n",
    "Categ = pd.DataFrame(modalités_categ, columns = [\"categ\"])\n",
    "Categ[\"total\"] = effectifs_categ.values\n",
    "Categ[\"pourcentage\"] = round(Categ[\"total\"] / len(df_enrichi) * 100,2)\n",
    "Categ = Categ.sort_values(\"categ\")\n",
    "Categ[\"pourcentages_cumulés\"] = round(Categ[\"pourcentage\"].cumsum(),2)\n",
    "Categ"
   ]
  },
  {
   "cell_type": "code",
   "execution_count": 143,
   "id": "bb066dde",
   "metadata": {},
   "outputs": [
    {
     "name": "stdout",
     "output_type": "stream",
     "text": [
      "Nombre des produits :  3265\n"
     ]
    },
    {
     "data": {
      "image/png": "[encoded data removed]",
      "text/plain": [
       "<Figure size 720x720 with 1 Axes>"
      ]
     },
     "metadata": {},
     "output_type": "display_data"
    }
   ],
   "source": [
    "# visualisation de la variable categ avec piechart\n",
    "df_prods = df_enrichi[['id_prod', 'categ']]\n",
    "df_prods = df_prods.drop_duplicates()\n",
    "nbr_total_products = len(df_prods)\n",
    "print(\"Nombre des produits : \", nbr_total_products)\n",
    "\n",
    "plt.figure(figsize=(10,10))\n",
    "# df_prods.categ.value_counts(normalize = True).plot(kind=\"pie\", autopct = lambda x: str(round(x, 2))+'%')\n",
    "df_prods.categ.value_counts().plot(kind=\"pie\", \n",
    "                                   autopct = lambda x: f'{x / 100 * nbr_total_products:.0f}\\n'+str(round(x, 2))+'%',\n",
    "                                   textprops={'fontsize': 20})\n",
    "\n",
    "plt.title(\"Pourcentage catégorie\")\n",
    "plt.legend()\n",
    "plt.axis(\"equal\")\n",
    "plt.show()"
   ]
  },
  {
   "cell_type": "code",
   "execution_count": 144,
   "id": "2ac4ef12",
   "metadata": {},
   "outputs": [
    {
     "name": "stdout",
     "output_type": "stream",
     "text": [
      "Nombre des transactions :  679111\n"
     ]
    },
    {
     "data": {
      "image/png": "[encoded data removed]",
      "text/plain": [
       "<Figure size 720x720 with 1 Axes>"
      ]
     },
     "metadata": {},
     "output_type": "display_data"
    }
   ],
   "source": [
    "# visualisation de la variable categ avec piechart\n",
    "\n",
    "nbr_total_transactions = len(df_enrichi)\n",
    "print(\"Nombre des transactions : \", nbr_total_transactions)\n",
    "\n",
    "plt.figure(figsize=(10,10))\n",
    "# df_prods.categ.value_counts(normalize = True).plot(kind=\"pie\", autopct = lambda x: str(round(x, 2))+'%')\n",
    "df_enrichi.categ.value_counts().plot(kind=\"pie\", \n",
    "                                   autopct = lambda x: f'{x / 100 * nbr_total_transactions:.0f}\\n'+str(round(x, 2))+'%',\n",
    "                                   textprops={'fontsize': 20})\n",
    "\n",
    "plt.title(\"Pourcentage catégorie\")\n",
    "plt.legend()\n",
    "plt.axis(\"equal\")\n",
    "plt.show()"
   ]
  },
  {
   "cell_type": "code",
   "execution_count": 18,
   "id": "5485160e",
   "metadata": {},
   "outputs": [
    {
     "data": {
      "text/plain": [
       "<Figure size 720x720 with 0 Axes>"
      ]
     },
     "metadata": {},
     "output_type": "display_data"
    },
    {
     "data": {
      "image/png": "[encoded data removed]",
      "text/plain": [
       "<Figure size 360x360 with 1 Axes>"
      ]
     },
     "metadata": {
      "needs_background": "light"
     },
     "output_type": "display_data"
    }
   ],
   "source": [
    "# Visualisation categ\n",
    "plt.figure(figsize=(10,10))\n",
    "sns.displot(df_enrichi, x=\"categ\", shrink=8)\n",
    "plt.title(\"Categ\",size=20)\n",
    "plt.xlabel(\"categ\",size=15)\n",
    "plt.legend([\"categ\"])\n",
    "plt.show()"
   ]
  }
 ],
 "metadata": {
  "kernelspec": {
   "display_name": "Python 3 (ipykernel)",
   "language": "python",
   "name": "python3"
  },
  "language_info": {
   "codemirror_mode": {
    "name": "ipython",
    "version": 3
   },
   "file_extension": ".py",
   "mimetype": "text/x-python",
   "name": "python",
   "nbconvert_exporter": "python",
   "pygments_lexer": "ipython3",
   "version": "3.9.12"
  }
 },
 "nbformat": 4,
 "nbformat_minor": 5
}
