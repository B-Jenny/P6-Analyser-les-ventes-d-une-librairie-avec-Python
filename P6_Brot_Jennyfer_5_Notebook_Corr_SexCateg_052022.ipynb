{
 "cells": [
  {
   "cell_type": "markdown",
   "id": "6397302b",
   "metadata": {},
   "source": [
    "# Corrélation Client-Sex-Categ\n",
    "## Quali/Quali"
   ]
  },
  {
   "cell_type": "code",
   "execution_count": 1,
   "id": "c02562f0",
   "metadata": {},
   "outputs": [],
   "source": [
    "# Importation des librairies\n",
    "import numpy as np\n",
    "import pandas as pd\n",
    "import seaborn as sns\n",
    "import matplotlib.pyplot as plt\n",
    "import scipy.stats as st\n",
    "import datetime\n",
    "\n",
    "from datetime import datetime"
   ]
  },
  {
   "cell_type": "code",
   "execution_count": 2,
   "id": "eea425f7",
   "metadata": {},
   "outputs": [],
   "source": [
    "# Déclaration d'une fonction\n",
    "def analyseDataFrame(df):\n",
    "    \"\"\"Fonction qui prend en arguments un dataframe pour analyse.\"\"\"\n",
    "\n",
    "    name =[x for x in globals() if globals()[x] is df][0]\n",
    "    print(\"La dimension de DataFrame « \" + name  +\" » : \" + str(df.shape) + \" (lignes, colonnes)\\n\")\n",
    "    display(df.info())\n",
    "    display(df.head())\n",
    "    display(df.describe().T)\n",
    "    display(df.nunique())"
   ]
  },
  {
   "cell_type": "code",
   "execution_count": 3,
   "id": "134ad7c7",
   "metadata": {},
   "outputs": [
    {
     "name": "stdout",
     "output_type": "stream",
     "text": [
      "La dimension de DataFrame « df_enrichi » : (679111, 11) (lignes, colonnes)\n",
      "\n",
      "<class 'pandas.core.frame.DataFrame'>\n",
      "DatetimeIndex: 679111 entries, 2021-03-01 00:01:07.843138 to 2023-02-28 23:58:30.792755\n",
      "Data columns (total 11 columns):\n",
      " #   Column      Non-Null Count   Dtype  \n",
      "---  ------      --------------   -----  \n",
      " 0   Unnamed: 0  679111 non-null  int64  \n",
      " 1   client_id   679111 non-null  object \n",
      " 2   sex         679111 non-null  object \n",
      " 3   birth       679111 non-null  float64\n",
      " 4   age         679111 non-null  float64\n",
      " 5   id_prod     679111 non-null  object \n",
      " 6   date        679111 non-null  object \n",
      " 7   session_id  679111 non-null  object \n",
      " 8   price       679111 non-null  float64\n",
      " 9   categ       679111 non-null  float64\n",
      " 10  _merge      679111 non-null  object \n",
      "dtypes: float64(4), int64(1), object(6)\n",
      "memory usage: 62.2+ MB\n"
     ]
    },
    {
     "data": {
      "text/plain": [
       "None"
      ]
     },
     "metadata": {},
     "output_type": "display_data"
    },
    {
     "data": {
      "text/html": [
       "<div>\n",
       "<style scoped>\n",
       "    .dataframe tbody tr th:only-of-type {\n",
       "        vertical-align: middle;\n",
       "    }\n",
       "\n",
       "    .dataframe tbody tr th {\n",
       "        vertical-align: top;\n",
       "    }\n",
       "\n",
       "    .dataframe thead th {\n",
       "        text-align: right;\n",
       "    }\n",
       "</style>\n",
       "<table border=\"1\" class=\"dataframe\">\n",
       "  <thead>\n",
       "    <tr style=\"text-align: right;\">\n",
       "      <th></th>\n",
       "      <th>Unnamed: 0</th>\n",
       "      <th>client_id</th>\n",
       "      <th>sex</th>\n",
       "      <th>birth</th>\n",
       "      <th>age</th>\n",
       "      <th>id_prod</th>\n",
       "      <th>date</th>\n",
       "      <th>session_id</th>\n",
       "      <th>price</th>\n",
       "      <th>categ</th>\n",
       "      <th>_merge</th>\n",
       "    </tr>\n",
       "    <tr>\n",
       "      <th>date_2</th>\n",
       "      <th></th>\n",
       "      <th></th>\n",
       "      <th></th>\n",
       "      <th></th>\n",
       "      <th></th>\n",
       "      <th></th>\n",
       "      <th></th>\n",
       "      <th></th>\n",
       "      <th></th>\n",
       "      <th></th>\n",
       "      <th></th>\n",
       "    </tr>\n",
       "  </thead>\n",
       "  <tbody>\n",
       "    <tr>\n",
       "      <th>2021-03-01 00:01:07.843138</th>\n",
       "      <td>129502</td>\n",
       "      <td>c_329</td>\n",
       "      <td>f</td>\n",
       "      <td>1967.0</td>\n",
       "      <td>55.0</td>\n",
       "      <td>0_1259</td>\n",
       "      <td>2021-03-01 00:01:07.843138</td>\n",
       "      <td>s_1</td>\n",
       "      <td>11.99</td>\n",
       "      <td>0.0</td>\n",
       "      <td>both</td>\n",
       "    </tr>\n",
       "    <tr>\n",
       "      <th>2021-03-01 00:02:26.047414</th>\n",
       "      <td>17306</td>\n",
       "      <td>c_664</td>\n",
       "      <td>m</td>\n",
       "      <td>1960.0</td>\n",
       "      <td>62.0</td>\n",
       "      <td>0_1390</td>\n",
       "      <td>2021-03-01 00:02:26.047414</td>\n",
       "      <td>s_2</td>\n",
       "      <td>19.37</td>\n",
       "      <td>0.0</td>\n",
       "      <td>both</td>\n",
       "    </tr>\n",
       "    <tr>\n",
       "      <th>2021-03-01 00:02:38.311413</th>\n",
       "      <td>146527</td>\n",
       "      <td>c_580</td>\n",
       "      <td>m</td>\n",
       "      <td>1988.0</td>\n",
       "      <td>34.0</td>\n",
       "      <td>0_1352</td>\n",
       "      <td>2021-03-01 00:02:38.311413</td>\n",
       "      <td>s_3</td>\n",
       "      <td>4.50</td>\n",
       "      <td>0.0</td>\n",
       "      <td>both</td>\n",
       "    </tr>\n",
       "    <tr>\n",
       "      <th>2021-03-01 00:04:54.559692</th>\n",
       "      <td>506717</td>\n",
       "      <td>c_7912</td>\n",
       "      <td>f</td>\n",
       "      <td>1989.0</td>\n",
       "      <td>33.0</td>\n",
       "      <td>0_1458</td>\n",
       "      <td>2021-03-01 00:04:54.559692</td>\n",
       "      <td>s_4</td>\n",
       "      <td>6.55</td>\n",
       "      <td>0.0</td>\n",
       "      <td>both</td>\n",
       "    </tr>\n",
       "    <tr>\n",
       "      <th>2021-03-01 00:05:18.801198</th>\n",
       "      <td>218220</td>\n",
       "      <td>c_2033</td>\n",
       "      <td>f</td>\n",
       "      <td>1956.0</td>\n",
       "      <td>66.0</td>\n",
       "      <td>0_1358</td>\n",
       "      <td>2021-03-01 00:05:18.801198</td>\n",
       "      <td>s_5</td>\n",
       "      <td>16.49</td>\n",
       "      <td>0.0</td>\n",
       "      <td>both</td>\n",
       "    </tr>\n",
       "  </tbody>\n",
       "</table>\n",
       "</div>"
      ],
      "text/plain": [
       "                            Unnamed: 0 client_id sex   birth   age id_prod  \\\n",
       "date_2                                                                       \n",
       "2021-03-01 00:01:07.843138      129502     c_329   f  1967.0  55.0  0_1259   \n",
       "2021-03-01 00:02:26.047414       17306     c_664   m  1960.0  62.0  0_1390   \n",
       "2021-03-01 00:02:38.311413      146527     c_580   m  1988.0  34.0  0_1352   \n",
       "2021-03-01 00:04:54.559692      506717    c_7912   f  1989.0  33.0  0_1458   \n",
       "2021-03-01 00:05:18.801198      218220    c_2033   f  1956.0  66.0  0_1358   \n",
       "\n",
       "                                                  date session_id  price  \\\n",
       "date_2                                                                     \n",
       "2021-03-01 00:01:07.843138  2021-03-01 00:01:07.843138        s_1  11.99   \n",
       "2021-03-01 00:02:26.047414  2021-03-01 00:02:26.047414        s_2  19.37   \n",
       "2021-03-01 00:02:38.311413  2021-03-01 00:02:38.311413        s_3   4.50   \n",
       "2021-03-01 00:04:54.559692  2021-03-01 00:04:54.559692        s_4   6.55   \n",
       "2021-03-01 00:05:18.801198  2021-03-01 00:05:18.801198        s_5  16.49   \n",
       "\n",
       "                            categ _merge  \n",
       "date_2                                    \n",
       "2021-03-01 00:01:07.843138    0.0   both  \n",
       "2021-03-01 00:02:26.047414    0.0   both  \n",
       "2021-03-01 00:02:38.311413    0.0   both  \n",
       "2021-03-01 00:04:54.559692    0.0   both  \n",
       "2021-03-01 00:05:18.801198    0.0   both  "
      ]
     },
     "metadata": {},
     "output_type": "display_data"
    },
    {
     "data": {
      "text/html": [
       "<div>\n",
       "<style scoped>\n",
       "    .dataframe tbody tr th:only-of-type {\n",
       "        vertical-align: middle;\n",
       "    }\n",
       "\n",
       "    .dataframe tbody tr th {\n",
       "        vertical-align: top;\n",
       "    }\n",
       "\n",
       "    .dataframe thead th {\n",
       "        text-align: right;\n",
       "    }\n",
       "</style>\n",
       "<table border=\"1\" class=\"dataframe\">\n",
       "  <thead>\n",
       "    <tr style=\"text-align: right;\">\n",
       "      <th></th>\n",
       "      <th>count</th>\n",
       "      <th>mean</th>\n",
       "      <th>std</th>\n",
       "      <th>min</th>\n",
       "      <th>25%</th>\n",
       "      <th>50%</th>\n",
       "      <th>75%</th>\n",
       "      <th>max</th>\n",
       "    </tr>\n",
       "  </thead>\n",
       "  <tbody>\n",
       "    <tr>\n",
       "      <th>Unnamed: 0</th>\n",
       "      <td>679111.0</td>\n",
       "      <td>339599.602812</td>\n",
       "      <td>196104.276737</td>\n",
       "      <td>0.00</td>\n",
       "      <td>169777.50</td>\n",
       "      <td>339555.00</td>\n",
       "      <td>509332.50</td>\n",
       "      <td>679331.0</td>\n",
       "    </tr>\n",
       "    <tr>\n",
       "      <th>birth</th>\n",
       "      <td>679111.0</td>\n",
       "      <td>1977.811149</td>\n",
       "      <td>13.575361</td>\n",
       "      <td>1929.00</td>\n",
       "      <td>1970.00</td>\n",
       "      <td>1980.00</td>\n",
       "      <td>1987.00</td>\n",
       "      <td>2004.0</td>\n",
       "    </tr>\n",
       "    <tr>\n",
       "      <th>age</th>\n",
       "      <td>679111.0</td>\n",
       "      <td>44.188851</td>\n",
       "      <td>13.575361</td>\n",
       "      <td>18.00</td>\n",
       "      <td>35.00</td>\n",
       "      <td>42.00</td>\n",
       "      <td>52.00</td>\n",
       "      <td>93.0</td>\n",
       "    </tr>\n",
       "    <tr>\n",
       "      <th>price</th>\n",
       "      <td>679111.0</td>\n",
       "      <td>17.454773</td>\n",
       "      <td>18.328998</td>\n",
       "      <td>0.62</td>\n",
       "      <td>8.87</td>\n",
       "      <td>13.99</td>\n",
       "      <td>18.99</td>\n",
       "      <td>300.0</td>\n",
       "    </tr>\n",
       "    <tr>\n",
       "      <th>categ</th>\n",
       "      <td>679111.0</td>\n",
       "      <td>0.441953</td>\n",
       "      <td>0.595042</td>\n",
       "      <td>0.00</td>\n",
       "      <td>0.00</td>\n",
       "      <td>0.00</td>\n",
       "      <td>1.00</td>\n",
       "      <td>2.0</td>\n",
       "    </tr>\n",
       "  </tbody>\n",
       "</table>\n",
       "</div>"
      ],
      "text/plain": [
       "               count           mean            std      min        25%  \\\n",
       "Unnamed: 0  679111.0  339599.602812  196104.276737     0.00  169777.50   \n",
       "birth       679111.0    1977.811149      13.575361  1929.00    1970.00   \n",
       "age         679111.0      44.188851      13.575361    18.00      35.00   \n",
       "price       679111.0      17.454773      18.328998     0.62       8.87   \n",
       "categ       679111.0       0.441953       0.595042     0.00       0.00   \n",
       "\n",
       "                  50%        75%       max  \n",
       "Unnamed: 0  339555.00  509332.50  679331.0  \n",
       "birth         1980.00    1987.00    2004.0  \n",
       "age             42.00      52.00      93.0  \n",
       "price           13.99      18.99     300.0  \n",
       "categ            0.00       1.00       2.0  "
      ]
     },
     "metadata": {},
     "output_type": "display_data"
    },
    {
     "data": {
      "text/plain": [
       "Unnamed: 0    679111\n",
       "client_id       8600\n",
       "sex                2\n",
       "birth             76\n",
       "age               76\n",
       "id_prod         3265\n",
       "date          679111\n",
       "session_id    342275\n",
       "price           1442\n",
       "categ              3\n",
       "_merge             1\n",
       "dtype: int64"
      ]
     },
     "metadata": {},
     "output_type": "display_data"
    }
   ],
   "source": [
    "# Importation du dataFrame 'df_enrichi'\n",
    "df_enrichi = pd.read_csv(\"df_enrichi.csv\", index_col=\"date_2\", parse_dates= True)\n",
    "\n",
    "# Vérifier que la première colonne est une idex\n",
    "df_enrichi.index = pd.to_datetime(df_enrichi.index)\n",
    "\n",
    "# Trier sur la colonne date\n",
    "df_enrichi = df_enrichi.sort_index()\n",
    "\n",
    "# Visualisualisation de df_enrichi\n",
    "analyseDataFrame(df_enrichi)"
   ]
  },
  {
   "cell_type": "code",
   "execution_count": 4,
   "id": "3c710325",
   "metadata": {},
   "outputs": [
    {
     "data": {
      "text/html": [
       "<div>\n",
       "<style scoped>\n",
       "    .dataframe tbody tr th:only-of-type {\n",
       "        vertical-align: middle;\n",
       "    }\n",
       "\n",
       "    .dataframe tbody tr th {\n",
       "        vertical-align: top;\n",
       "    }\n",
       "\n",
       "    .dataframe thead th {\n",
       "        text-align: right;\n",
       "    }\n",
       "</style>\n",
       "<table border=\"1\" class=\"dataframe\">\n",
       "  <thead>\n",
       "    <tr style=\"text-align: right;\">\n",
       "      <th></th>\n",
       "      <th>sex</th>\n",
       "      <th>categ</th>\n",
       "    </tr>\n",
       "    <tr>\n",
       "      <th>date_2</th>\n",
       "      <th></th>\n",
       "      <th></th>\n",
       "    </tr>\n",
       "  </thead>\n",
       "  <tbody>\n",
       "    <tr>\n",
       "      <th>2021-03-01 00:01:07.843138</th>\n",
       "      <td>f</td>\n",
       "      <td>0.0</td>\n",
       "    </tr>\n",
       "    <tr>\n",
       "      <th>2021-03-01 00:02:26.047414</th>\n",
       "      <td>m</td>\n",
       "      <td>0.0</td>\n",
       "    </tr>\n",
       "    <tr>\n",
       "      <th>2021-03-01 00:02:38.311413</th>\n",
       "      <td>m</td>\n",
       "      <td>0.0</td>\n",
       "    </tr>\n",
       "    <tr>\n",
       "      <th>2021-03-01 00:04:54.559692</th>\n",
       "      <td>f</td>\n",
       "      <td>0.0</td>\n",
       "    </tr>\n",
       "    <tr>\n",
       "      <th>2021-03-01 00:05:18.801198</th>\n",
       "      <td>f</td>\n",
       "      <td>0.0</td>\n",
       "    </tr>\n",
       "  </tbody>\n",
       "</table>\n",
       "</div>"
      ],
      "text/plain": [
       "                           sex  categ\n",
       "date_2                               \n",
       "2021-03-01 00:01:07.843138   f    0.0\n",
       "2021-03-01 00:02:26.047414   m    0.0\n",
       "2021-03-01 00:02:38.311413   m    0.0\n",
       "2021-03-01 00:04:54.559692   f    0.0\n",
       "2021-03-01 00:05:18.801198   f    0.0"
      ]
     },
     "execution_count": 4,
     "metadata": {},
     "output_type": "execute_result"
    }
   ],
   "source": [
    "# Préparation du df\n",
    "df_QL_QL_SexCateg = df_enrichi[[\"sex\", \"categ\"]]\n",
    "                                \n",
    "df_QL_QL_SexCateg.head()"
   ]
  },
  {
   "cell_type": "code",
   "execution_count": 5,
   "id": "97d692e0",
   "metadata": {},
   "outputs": [
    {
     "data": {
      "text/plain": [
       "sex       object\n",
       "categ    float64\n",
       "dtype: object"
      ]
     },
     "execution_count": 5,
     "metadata": {},
     "output_type": "execute_result"
    }
   ],
   "source": [
    "df_QL_QL_SexCateg.dtypes"
   ]
  },
  {
   "cell_type": "code",
   "execution_count": 6,
   "id": "9ffa1c59",
   "metadata": {},
   "outputs": [
    {
     "data": {
      "text/plain": [
       "m    340826\n",
       "f    338285\n",
       "Name: sex, dtype: int64"
      ]
     },
     "execution_count": 6,
     "metadata": {},
     "output_type": "execute_result"
    }
   ],
   "source": [
    "# Calcul du nombre de clients par genre\n",
    "df_QL_QL_SexCateg[\"sex\"].value_counts()"
   ]
  },
  {
   "cell_type": "code",
   "execution_count": 7,
   "id": "39ca7622",
   "metadata": {},
   "outputs": [
    {
     "data": {
      "text/plain": [
       "0.0    415459\n",
       "1.0    227169\n",
       "2.0     36483\n",
       "Name: categ, dtype: int64"
      ]
     },
     "execution_count": 7,
     "metadata": {},
     "output_type": "execute_result"
    }
   ],
   "source": [
    "# Calcul du nombre de livres par catégorie\n",
    "df_QL_QL_SexCateg[\"categ\"].value_counts()"
   ]
  },
  {
   "cell_type": "code",
   "execution_count": 8,
   "id": "0cc454b9",
   "metadata": {},
   "outputs": [
    {
     "data": {
      "text/plain": [
       "pandas.core.series.Series"
      ]
     },
     "execution_count": 8,
     "metadata": {},
     "output_type": "execute_result"
    }
   ],
   "source": [
    "type(df_QL_QL_SexCateg[\"sex\"])"
   ]
  },
  {
   "cell_type": "code",
   "execution_count": 9,
   "id": "a3efe53f",
   "metadata": {},
   "outputs": [
    {
     "data": {
      "text/plain": [
       "pandas.core.series.Series"
      ]
     },
     "execution_count": 9,
     "metadata": {},
     "output_type": "execute_result"
    }
   ],
   "source": [
    "type(df_QL_QL_SexCateg[\"categ\"])"
   ]
  },
  {
   "cell_type": "code",
   "execution_count": 10,
   "id": "906968f3",
   "metadata": {},
   "outputs": [
    {
     "name": "stdout",
     "output_type": "stream",
     "text": [
      "Nombre de femmes pour la catégorie 0: 206103\n",
      "Nombre de femmes pour la catégorie 1: 114899\n",
      "Nombre de femmes pour la catégorie 2: 17283\n"
     ]
    }
   ],
   "source": [
    "f_Cat0 = ((df_QL_QL_SexCateg[\"sex\"]==\"f\")&(df_QL_QL_SexCateg[\"categ\"]==0)).sum()\n",
    "print(\"Nombre de femmes pour la catégorie 0:\", f_Cat0)\n",
    "\n",
    "f_Cat1 = ((df_QL_QL_SexCateg[\"sex\"]==\"f\")&(df_QL_QL_SexCateg[\"categ\"]==1)).sum()\n",
    "print(\"Nombre de femmes pour la catégorie 1:\", f_Cat1)\n",
    "\n",
    "f_Cat2 = ((df_QL_QL_SexCateg[\"sex\"]==\"f\")&(df_QL_QL_SexCateg[\"categ\"]==2)).sum()\n",
    "print(\"Nombre de femmes pour la catégorie 2:\", f_Cat2)\n"
   ]
  },
  {
   "cell_type": "code",
   "execution_count": 11,
   "id": "b6d57ca8",
   "metadata": {},
   "outputs": [
    {
     "name": "stdout",
     "output_type": "stream",
     "text": [
      "Nombre d'hommes pour la catégorie 0: 209356\n",
      "Nombre d'hommes pour la catégorie 1: 112270\n",
      "Nombre d'hommes pour la catégorie 2: 19200\n"
     ]
    }
   ],
   "source": [
    "m_Cat0 = ((df_QL_QL_SexCateg[\"sex\"]==\"m\")&(df_QL_QL_SexCateg[\"categ\"]==0)).sum()\n",
    "print(\"Nombre d'hommes pour la catégorie 0:\", m_Cat0)\n",
    "\n",
    "m_Cat1 = ((df_QL_QL_SexCateg[\"sex\"]==\"m\")&(df_QL_QL_SexCateg[\"categ\"]==1)).sum()\n",
    "print(\"Nombre d'hommes pour la catégorie 1:\", m_Cat1)\n",
    "\n",
    "m_Cat2 = ((df_QL_QL_SexCateg[\"sex\"]==\"m\")&(df_QL_QL_SexCateg[\"categ\"]==2)).sum()\n",
    "print(\"Nombre d'hommes pour la catégorie 2:\", m_Cat2)"
   ]
  },
  {
   "cell_type": "code",
   "execution_count": 12,
   "id": "fa889853",
   "metadata": {},
   "outputs": [
    {
     "name": "stdout",
     "output_type": "stream",
     "text": [
      "\n",
      "Tableau de contingence\n"
     ]
    },
    {
     "data": {
      "text/html": [
       "<div>\n",
       "<style scoped>\n",
       "    .dataframe tbody tr th:only-of-type {\n",
       "        vertical-align: middle;\n",
       "    }\n",
       "\n",
       "    .dataframe tbody tr th {\n",
       "        vertical-align: top;\n",
       "    }\n",
       "\n",
       "    .dataframe thead th {\n",
       "        text-align: right;\n",
       "    }\n",
       "</style>\n",
       "<table border=\"1\" class=\"dataframe\">\n",
       "  <thead>\n",
       "    <tr style=\"text-align: right;\">\n",
       "      <th>categ</th>\n",
       "      <th>0.0</th>\n",
       "      <th>1.0</th>\n",
       "      <th>2.0</th>\n",
       "      <th>Total</th>\n",
       "    </tr>\n",
       "    <tr>\n",
       "      <th>sex</th>\n",
       "      <th></th>\n",
       "      <th></th>\n",
       "      <th></th>\n",
       "      <th></th>\n",
       "    </tr>\n",
       "  </thead>\n",
       "  <tbody>\n",
       "    <tr>\n",
       "      <th>f</th>\n",
       "      <td>206103</td>\n",
       "      <td>114899</td>\n",
       "      <td>17283</td>\n",
       "      <td>338285</td>\n",
       "    </tr>\n",
       "    <tr>\n",
       "      <th>m</th>\n",
       "      <td>209356</td>\n",
       "      <td>112270</td>\n",
       "      <td>19200</td>\n",
       "      <td>340826</td>\n",
       "    </tr>\n",
       "    <tr>\n",
       "      <th>Total</th>\n",
       "      <td>415459</td>\n",
       "      <td>227169</td>\n",
       "      <td>36483</td>\n",
       "      <td>679111</td>\n",
       "    </tr>\n",
       "  </tbody>\n",
       "</table>\n",
       "</div>"
      ],
      "text/plain": [
       "categ     0.0     1.0    2.0   Total\n",
       "sex                                 \n",
       "f      206103  114899  17283  338285\n",
       "m      209356  112270  19200  340826\n",
       "Total  415459  227169  36483  679111"
      ]
     },
     "metadata": {},
     "output_type": "display_data"
    }
   ],
   "source": [
    "X = \"sex\"\n",
    "Y = \"categ\"\n",
    "cont = df_enrichi[[X,Y]].pivot_table(index=X,columns=Y,aggfunc=len,margins=True,margins_name=\"Total\")\n",
    "print()\n",
    "print(\"Tableau de contingence\") \n",
    "display(cont)"
   ]
  },
  {
   "cell_type": "code",
   "execution_count": 13,
   "id": "46271733",
   "metadata": {},
   "outputs": [
    {
     "data": {
      "image/png": "[encoded data removed]",
      "text/plain": [
       "<Figure size 504x288 with 2 Axes>"
      ]
     },
     "metadata": {
      "needs_background": "light"
     },
     "output_type": "display_data"
    }
   ],
   "source": [
    "plt.figure(figsize = (7,4))\n",
    "\n",
    "tx = cont.loc[:,[\"Total\"]]\n",
    "ty = cont.loc[[\"Total\"],:]\n",
    "n = len(df_enrichi)\n",
    "indep = tx.dot(ty) / n\n",
    "\n",
    "c = cont.fillna(0) # On remplace les valeurs nulles par 0\n",
    "measure = (c-indep)**2/indep\n",
    "xi_n = measure.sum().sum()\n",
    "table = measure/xi_n\n",
    "\n",
    "plt.xlabel('xlabel', fontsize=18)\n",
    "plt.ylabel('ylabel', fontsize=18)\n",
    "\n",
    "sns.heatmap(table.iloc[:-1,:-1],annot=c.iloc[:-1,:-1], annot_kws={\n",
    "                                                                    'fontsize': 14,\n",
    "                                                                    'fontweight': 'bold',\n",
    "                                                                    'fontfamily': 'serif'\n",
    "                                                                }\n",
    ")\n",
    "plt.show()"
   ]
  },
  {
   "cell_type": "code",
   "execution_count": 14,
   "id": "b5a88061",
   "metadata": {},
   "outputs": [
    {
     "name": "stdout",
     "output_type": "stream",
     "text": [
      "test statistique chi2   :  147.11906816131497\n",
      "P_Value du test         :  3.144522803251581e-29\n",
      "Degrés de liberté       :  6\n",
      "Probablement dependente : Probablement la variable « sex » est liée à la variable « categ »\n"
     ]
    }
   ],
   "source": [
    "st_chi2, st_p_value, st_dof, st_exp = st.chi2_contingency(cont)\n",
    "print(\"test statistique chi2   : \", st_chi2)\n",
    "print(\"P_Value du test         : \", st_p_value)\n",
    "print(\"Degrés de liberté       : \", st_dof)\n",
    "x_name = \"sex\"\n",
    "y_name = \"categ\"\n",
    "\n",
    "# voir la partie : Par conséquent, nous devons comparer la valeur p obtenue avec une valeur alpha de 0,05.\n",
    "\n",
    "\n",
    "alpha = 0.05\n",
    "    \n",
    "if st_p_value <= alpha:\n",
    "    print(f\"Probablement dependente : Probablement la variable « {x_name} » est liée à la variable « {y_name} »\")\n",
    "else:\n",
    "    print(f\"Probablement independente : Probablement la variable « {x_name} » n'est pas liée à la variable « {y_name} »\")"
   ]
  },
  {
   "cell_type": "code",
   "execution_count": 15,
   "id": "436597eb",
   "metadata": {},
   "outputs": [
    {
     "data": {
      "image/png": "[encoded data removed]",
      "text/plain": [
       "<Figure size 412x360 with 1 Axes>"
      ]
     },
     "metadata": {
      "needs_background": "light"
     },
     "output_type": "display_data"
    }
   ],
   "source": [
    "sns.displot(data=df_QL_QL_SexCateg, x=\"sex\", hue=\"categ\")\n",
    "plt.title('Effectifs des ventes par sexe et catégorie')\n",
    "\n",
    "plt.show()"
   ]
  }
 ],
 "metadata": {
  "kernelspec": {
   "display_name": "Python 3 (ipykernel)",
   "language": "python",
   "name": "python3"
  },
  "language_info": {
   "codemirror_mode": {
    "name": "ipython",
    "version": 3
   },
   "file_extension": ".py",
   "mimetype": "text/x-python",
   "name": "python",
   "nbconvert_exporter": "python",
   "pygments_lexer": "ipython3",
   "version": "3.9.12"
  }
 },
 "nbformat": 4,
 "nbformat_minor": 5
}
