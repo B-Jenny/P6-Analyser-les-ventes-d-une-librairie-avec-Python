{
 "cells": [
  {
   "cell_type": "markdown",
   "id": "f74483b9",
   "metadata": {},
   "source": [
    "# Corrélation Client-Age-CA\n",
    "## Quanti/Quanti"
   ]
  },
  {
   "cell_type": "code",
   "execution_count": 1,
   "id": "8650d6f0",
   "metadata": {},
   "outputs": [],
   "source": [
    "# Importation des librairies\n",
    "import numpy as np\n",
    "import pandas as pd\n",
    "import seaborn as sns\n",
    "import matplotlib.pyplot as plt\n",
    "import scipy.stats as st\n",
    "import statsmodels.api as sm\n",
    "import datetime\n",
    "\n",
    "\n",
    "\n",
    "from datetime import datetime"
   ]
  },
  {
   "cell_type": "code",
   "execution_count": 2,
   "id": "af4b99ec",
   "metadata": {},
   "outputs": [],
   "source": [
    "# Déclaration d'une fonction\n",
    "def analyseDataFrame(df):\n",
    "    \"\"\"Fonction qui prend en arguments un dataframe pour analyse.\"\"\"\n",
    "\n",
    "    name =[x for x in globals() if globals()[x] is df][0]\n",
    "    print(\"La dimension de DataFrame « \" + name  +\" » : \" + str(df.shape) + \" (lignes, colonnes)\\n\")\n",
    "    display(df.info())\n",
    "    display(df.head())\n",
    "    display(df.describe().T)\n",
    "    display(df.nunique())"
   ]
  },
  {
   "cell_type": "code",
   "execution_count": 3,
   "id": "1ffb55d5",
   "metadata": {},
   "outputs": [],
   "source": [
    "# Déclaration d'une fonction de prédiction\n",
    "def predict(x):\n",
    "   return slope * x + intercept"
   ]
  },
  {
   "cell_type": "code",
   "execution_count": 4,
   "id": "693f1b72",
   "metadata": {},
   "outputs": [
    {
     "name": "stdout",
     "output_type": "stream",
     "text": [
      "La dimension de DataFrame « df_enrichi » : (679111, 11) (lignes, colonnes)\n",
      "\n",
      "<class 'pandas.core.frame.DataFrame'>\n",
      "DatetimeIndex: 679111 entries, 2021-03-01 00:01:07.843138 to 2023-02-28 23:58:30.792755\n",
      "Data columns (total 11 columns):\n",
      " #   Column      Non-Null Count   Dtype  \n",
      "---  ------      --------------   -----  \n",
      " 0   Unnamed: 0  679111 non-null  int64  \n",
      " 1   client_id   679111 non-null  object \n",
      " 2   sex         679111 non-null  object \n",
      " 3   birth       679111 non-null  float64\n",
      " 4   age         679111 non-null  float64\n",
      " 5   id_prod     679111 non-null  object \n",
      " 6   date        679111 non-null  object \n",
      " 7   session_id  679111 non-null  object \n",
      " 8   price       679111 non-null  float64\n",
      " 9   categ       679111 non-null  float64\n",
      " 10  _merge      679111 non-null  object \n",
      "dtypes: float64(4), int64(1), object(6)\n",
      "memory usage: 62.2+ MB\n"
     ]
    },
    {
     "data": {
      "text/plain": [
       "None"
      ]
     },
     "metadata": {},
     "output_type": "display_data"
    },
    {
     "data": {
      "text/html": [
       "<div>\n",
       "<style scoped>\n",
       "    .dataframe tbody tr th:only-of-type {\n",
       "        vertical-align: middle;\n",
       "    }\n",
       "\n",
       "    .dataframe tbody tr th {\n",
       "        vertical-align: top;\n",
       "    }\n",
       "\n",
       "    .dataframe thead th {\n",
       "        text-align: right;\n",
       "    }\n",
       "</style>\n",
       "<table border=\"1\" class=\"dataframe\">\n",
       "  <thead>\n",
       "    <tr style=\"text-align: right;\">\n",
       "      <th></th>\n",
       "      <th>Unnamed: 0</th>\n",
       "      <th>client_id</th>\n",
       "      <th>sex</th>\n",
       "      <th>birth</th>\n",
       "      <th>age</th>\n",
       "      <th>id_prod</th>\n",
       "      <th>date</th>\n",
       "      <th>session_id</th>\n",
       "      <th>price</th>\n",
       "      <th>categ</th>\n",
       "      <th>_merge</th>\n",
       "    </tr>\n",
       "    <tr>\n",
       "      <th>date_2</th>\n",
       "      <th></th>\n",
       "      <th></th>\n",
       "      <th></th>\n",
       "      <th></th>\n",
       "      <th></th>\n",
       "      <th></th>\n",
       "      <th></th>\n",
       "      <th></th>\n",
       "      <th></th>\n",
       "      <th></th>\n",
       "      <th></th>\n",
       "    </tr>\n",
       "  </thead>\n",
       "  <tbody>\n",
       "    <tr>\n",
       "      <th>2021-03-01 00:01:07.843138</th>\n",
       "      <td>129502</td>\n",
       "      <td>c_329</td>\n",
       "      <td>f</td>\n",
       "      <td>1967.0</td>\n",
       "      <td>55.0</td>\n",
       "      <td>0_1259</td>\n",
       "      <td>2021-03-01 00:01:07.843138</td>\n",
       "      <td>s_1</td>\n",
       "      <td>11.99</td>\n",
       "      <td>0.0</td>\n",
       "      <td>both</td>\n",
       "    </tr>\n",
       "    <tr>\n",
       "      <th>2021-03-01 00:02:26.047414</th>\n",
       "      <td>17306</td>\n",
       "      <td>c_664</td>\n",
       "      <td>m</td>\n",
       "      <td>1960.0</td>\n",
       "      <td>62.0</td>\n",
       "      <td>0_1390</td>\n",
       "      <td>2021-03-01 00:02:26.047414</td>\n",
       "      <td>s_2</td>\n",
       "      <td>19.37</td>\n",
       "      <td>0.0</td>\n",
       "      <td>both</td>\n",
       "    </tr>\n",
       "    <tr>\n",
       "      <th>2021-03-01 00:02:38.311413</th>\n",
       "      <td>146527</td>\n",
       "      <td>c_580</td>\n",
       "      <td>m</td>\n",
       "      <td>1988.0</td>\n",
       "      <td>34.0</td>\n",
       "      <td>0_1352</td>\n",
       "      <td>2021-03-01 00:02:38.311413</td>\n",
       "      <td>s_3</td>\n",
       "      <td>4.50</td>\n",
       "      <td>0.0</td>\n",
       "      <td>both</td>\n",
       "    </tr>\n",
       "    <tr>\n",
       "      <th>2021-03-01 00:04:54.559692</th>\n",
       "      <td>506717</td>\n",
       "      <td>c_7912</td>\n",
       "      <td>f</td>\n",
       "      <td>1989.0</td>\n",
       "      <td>33.0</td>\n",
       "      <td>0_1458</td>\n",
       "      <td>2021-03-01 00:04:54.559692</td>\n",
       "      <td>s_4</td>\n",
       "      <td>6.55</td>\n",
       "      <td>0.0</td>\n",
       "      <td>both</td>\n",
       "    </tr>\n",
       "    <tr>\n",
       "      <th>2021-03-01 00:05:18.801198</th>\n",
       "      <td>218220</td>\n",
       "      <td>c_2033</td>\n",
       "      <td>f</td>\n",
       "      <td>1956.0</td>\n",
       "      <td>66.0</td>\n",
       "      <td>0_1358</td>\n",
       "      <td>2021-03-01 00:05:18.801198</td>\n",
       "      <td>s_5</td>\n",
       "      <td>16.49</td>\n",
       "      <td>0.0</td>\n",
       "      <td>both</td>\n",
       "    </tr>\n",
       "  </tbody>\n",
       "</table>\n",
       "</div>"
      ],
      "text/plain": [
       "                            Unnamed: 0 client_id sex   birth   age id_prod  \\\n",
       "date_2                                                                       \n",
       "2021-03-01 00:01:07.843138      129502     c_329   f  1967.0  55.0  0_1259   \n",
       "2021-03-01 00:02:26.047414       17306     c_664   m  1960.0  62.0  0_1390   \n",
       "2021-03-01 00:02:38.311413      146527     c_580   m  1988.0  34.0  0_1352   \n",
       "2021-03-01 00:04:54.559692      506717    c_7912   f  1989.0  33.0  0_1458   \n",
       "2021-03-01 00:05:18.801198      218220    c_2033   f  1956.0  66.0  0_1358   \n",
       "\n",
       "                                                  date session_id  price  \\\n",
       "date_2                                                                     \n",
       "2021-03-01 00:01:07.843138  2021-03-01 00:01:07.843138        s_1  11.99   \n",
       "2021-03-01 00:02:26.047414  2021-03-01 00:02:26.047414        s_2  19.37   \n",
       "2021-03-01 00:02:38.311413  2021-03-01 00:02:38.311413        s_3   4.50   \n",
       "2021-03-01 00:04:54.559692  2021-03-01 00:04:54.559692        s_4   6.55   \n",
       "2021-03-01 00:05:18.801198  2021-03-01 00:05:18.801198        s_5  16.49   \n",
       "\n",
       "                            categ _merge  \n",
       "date_2                                    \n",
       "2021-03-01 00:01:07.843138    0.0   both  \n",
       "2021-03-01 00:02:26.047414    0.0   both  \n",
       "2021-03-01 00:02:38.311413    0.0   both  \n",
       "2021-03-01 00:04:54.559692    0.0   both  \n",
       "2021-03-01 00:05:18.801198    0.0   both  "
      ]
     },
     "metadata": {},
     "output_type": "display_data"
    },
    {
     "data": {
      "text/html": [
       "<div>\n",
       "<style scoped>\n",
       "    .dataframe tbody tr th:only-of-type {\n",
       "        vertical-align: middle;\n",
       "    }\n",
       "\n",
       "    .dataframe tbody tr th {\n",
       "        vertical-align: top;\n",
       "    }\n",
       "\n",
       "    .dataframe thead th {\n",
       "        text-align: right;\n",
       "    }\n",
       "</style>\n",
       "<table border=\"1\" class=\"dataframe\">\n",
       "  <thead>\n",
       "    <tr style=\"text-align: right;\">\n",
       "      <th></th>\n",
       "      <th>count</th>\n",
       "      <th>mean</th>\n",
       "      <th>std</th>\n",
       "      <th>min</th>\n",
       "      <th>25%</th>\n",
       "      <th>50%</th>\n",
       "      <th>75%</th>\n",
       "      <th>max</th>\n",
       "    </tr>\n",
       "  </thead>\n",
       "  <tbody>\n",
       "    <tr>\n",
       "      <th>Unnamed: 0</th>\n",
       "      <td>679111.0</td>\n",
       "      <td>339599.602812</td>\n",
       "      <td>196104.276737</td>\n",
       "      <td>0.00</td>\n",
       "      <td>169777.50</td>\n",
       "      <td>339555.00</td>\n",
       "      <td>509332.50</td>\n",
       "      <td>679331.0</td>\n",
       "    </tr>\n",
       "    <tr>\n",
       "      <th>birth</th>\n",
       "      <td>679111.0</td>\n",
       "      <td>1977.811149</td>\n",
       "      <td>13.575361</td>\n",
       "      <td>1929.00</td>\n",
       "      <td>1970.00</td>\n",
       "      <td>1980.00</td>\n",
       "      <td>1987.00</td>\n",
       "      <td>2004.0</td>\n",
       "    </tr>\n",
       "    <tr>\n",
       "      <th>age</th>\n",
       "      <td>679111.0</td>\n",
       "      <td>44.188851</td>\n",
       "      <td>13.575361</td>\n",
       "      <td>18.00</td>\n",
       "      <td>35.00</td>\n",
       "      <td>42.00</td>\n",
       "      <td>52.00</td>\n",
       "      <td>93.0</td>\n",
       "    </tr>\n",
       "    <tr>\n",
       "      <th>price</th>\n",
       "      <td>679111.0</td>\n",
       "      <td>17.454773</td>\n",
       "      <td>18.328998</td>\n",
       "      <td>0.62</td>\n",
       "      <td>8.87</td>\n",
       "      <td>13.99</td>\n",
       "      <td>18.99</td>\n",
       "      <td>300.0</td>\n",
       "    </tr>\n",
       "    <tr>\n",
       "      <th>categ</th>\n",
       "      <td>679111.0</td>\n",
       "      <td>0.441953</td>\n",
       "      <td>0.595042</td>\n",
       "      <td>0.00</td>\n",
       "      <td>0.00</td>\n",
       "      <td>0.00</td>\n",
       "      <td>1.00</td>\n",
       "      <td>2.0</td>\n",
       "    </tr>\n",
       "  </tbody>\n",
       "</table>\n",
       "</div>"
      ],
      "text/plain": [
       "               count           mean            std      min        25%  \\\n",
       "Unnamed: 0  679111.0  339599.602812  196104.276737     0.00  169777.50   \n",
       "birth       679111.0    1977.811149      13.575361  1929.00    1970.00   \n",
       "age         679111.0      44.188851      13.575361    18.00      35.00   \n",
       "price       679111.0      17.454773      18.328998     0.62       8.87   \n",
       "categ       679111.0       0.441953       0.595042     0.00       0.00   \n",
       "\n",
       "                  50%        75%       max  \n",
       "Unnamed: 0  339555.00  509332.50  679331.0  \n",
       "birth         1980.00    1987.00    2004.0  \n",
       "age             42.00      52.00      93.0  \n",
       "price           13.99      18.99     300.0  \n",
       "categ            0.00       1.00       2.0  "
      ]
     },
     "metadata": {},
     "output_type": "display_data"
    },
    {
     "data": {
      "text/plain": [
       "Unnamed: 0    679111\n",
       "client_id       8600\n",
       "sex                2\n",
       "birth             76\n",
       "age               76\n",
       "id_prod         3265\n",
       "date          679111\n",
       "session_id    342275\n",
       "price           1442\n",
       "categ              3\n",
       "_merge             1\n",
       "dtype: int64"
      ]
     },
     "metadata": {},
     "output_type": "display_data"
    }
   ],
   "source": [
    "# Importation du dataFrame 'df_enrichi'\n",
    "df_enrichi = pd.read_csv(\"df_enrichi.csv\", index_col=\"date_2\", parse_dates= True)\n",
    "\n",
    "# Vérifier que la première colonne est une idex\n",
    "df_enrichi.index = pd.to_datetime(df_enrichi.index)\n",
    "\n",
    "# Trier sur la colonne date\n",
    "df_enrichi = df_enrichi.sort_index()\n",
    "\n",
    "# Visualisualisation de df_enrichi\n",
    "analyseDataFrame(df_enrichi)"
   ]
  },
  {
   "cell_type": "code",
   "execution_count": 5,
   "id": "f23f4305",
   "metadata": {},
   "outputs": [],
   "source": [
    "# Eliminer les clients B2B\n",
    "df_enrichi = df_enrichi[~df_enrichi[\"client_id\"].isin([\"c_1609\", \"c_4958\", \"c_6714\", \"c_3454\"])]"
   ]
  },
  {
   "cell_type": "code",
   "execution_count": 6,
   "id": "6b48afa4",
   "metadata": {},
   "outputs": [
    {
     "data": {
      "text/html": [
       "<div>\n",
       "<style scoped>\n",
       "    .dataframe tbody tr th:only-of-type {\n",
       "        vertical-align: middle;\n",
       "    }\n",
       "\n",
       "    .dataframe tbody tr th {\n",
       "        vertical-align: top;\n",
       "    }\n",
       "\n",
       "    .dataframe thead th {\n",
       "        text-align: right;\n",
       "    }\n",
       "</style>\n",
       "<table border=\"1\" class=\"dataframe\">\n",
       "  <thead>\n",
       "    <tr style=\"text-align: right;\">\n",
       "      <th></th>\n",
       "      <th>client_id</th>\n",
       "      <th>age</th>\n",
       "      <th>CA_Client</th>\n",
       "    </tr>\n",
       "  </thead>\n",
       "  <tbody>\n",
       "    <tr>\n",
       "      <th>0</th>\n",
       "      <td>c_1</td>\n",
       "      <td>67.0</td>\n",
       "      <td>558.18</td>\n",
       "    </tr>\n",
       "    <tr>\n",
       "      <th>1</th>\n",
       "      <td>c_10</td>\n",
       "      <td>66.0</td>\n",
       "      <td>1353.60</td>\n",
       "    </tr>\n",
       "    <tr>\n",
       "      <th>2</th>\n",
       "      <td>c_100</td>\n",
       "      <td>30.0</td>\n",
       "      <td>254.85</td>\n",
       "    </tr>\n",
       "    <tr>\n",
       "      <th>3</th>\n",
       "      <td>c_1000</td>\n",
       "      <td>56.0</td>\n",
       "      <td>2261.89</td>\n",
       "    </tr>\n",
       "    <tr>\n",
       "      <th>4</th>\n",
       "      <td>c_1001</td>\n",
       "      <td>40.0</td>\n",
       "      <td>1812.86</td>\n",
       "    </tr>\n",
       "  </tbody>\n",
       "</table>\n",
       "</div>"
      ],
      "text/plain": [
       "  client_id   age  CA_Client\n",
       "0       c_1  67.0     558.18\n",
       "1      c_10  66.0    1353.60\n",
       "2     c_100  30.0     254.85\n",
       "3    c_1000  56.0    2261.89\n",
       "4    c_1001  40.0    1812.86"
      ]
     },
     "execution_count": 6,
     "metadata": {},
     "output_type": "execute_result"
    }
   ],
   "source": [
    "# Préparation des données d'analyse\n",
    "\n",
    "df_QT_QT_ClientAgeCA = df_enrichi[[\"client_id\", \"age\", \"price\"]]\\\n",
    "                            .groupby(by=[\"client_id\", \"age\"])\\\n",
    "                            .sum()\\\n",
    "                            .reset_index()\\\n",
    "                            .copy()\n",
    "df_QT_QT_ClientAgeCA.rename(columns={\"price\":\"CA_Client\"}, inplace=True)\n",
    "df_QT_QT_ClientAgeCA.head()"
   ]
  },
  {
   "cell_type": "code",
   "execution_count": 7,
   "id": "61a6cdbd",
   "metadata": {},
   "outputs": [
    {
     "name": "stdout",
     "output_type": "stream",
     "text": [
      "Affichage des individues qui ont 67 ans\n"
     ]
    },
    {
     "data": {
      "text/html": [
       "<div>\n",
       "<style scoped>\n",
       "    .dataframe tbody tr th:only-of-type {\n",
       "        vertical-align: middle;\n",
       "    }\n",
       "\n",
       "    .dataframe tbody tr th {\n",
       "        vertical-align: top;\n",
       "    }\n",
       "\n",
       "    .dataframe thead th {\n",
       "        text-align: right;\n",
       "    }\n",
       "</style>\n",
       "<table border=\"1\" class=\"dataframe\">\n",
       "  <thead>\n",
       "    <tr style=\"text-align: right;\">\n",
       "      <th></th>\n",
       "      <th>client_id</th>\n",
       "      <th>age</th>\n",
       "      <th>CA_Client</th>\n",
       "    </tr>\n",
       "  </thead>\n",
       "  <tbody>\n",
       "    <tr>\n",
       "      <th>1277</th>\n",
       "      <td>c_215</td>\n",
       "      <td>67.0</td>\n",
       "      <td>3141.17</td>\n",
       "    </tr>\n",
       "    <tr>\n",
       "      <th>7937</th>\n",
       "      <td>c_8161</td>\n",
       "      <td>67.0</td>\n",
       "      <td>2823.50</td>\n",
       "    </tr>\n",
       "    <tr>\n",
       "      <th>2619</th>\n",
       "      <td>c_336</td>\n",
       "      <td>67.0</td>\n",
       "      <td>2664.68</td>\n",
       "    </tr>\n",
       "    <tr>\n",
       "      <th>3954</th>\n",
       "      <td>c_4569</td>\n",
       "      <td>67.0</td>\n",
       "      <td>2275.80</td>\n",
       "    </tr>\n",
       "    <tr>\n",
       "      <th>4897</th>\n",
       "      <td>c_542</td>\n",
       "      <td>67.0</td>\n",
       "      <td>2268.21</td>\n",
       "    </tr>\n",
       "  </tbody>\n",
       "</table>\n",
       "</div>"
      ],
      "text/plain": [
       "     client_id   age  CA_Client\n",
       "1277     c_215  67.0    3141.17\n",
       "7937    c_8161  67.0    2823.50\n",
       "2619     c_336  67.0    2664.68\n",
       "3954    c_4569  67.0    2275.80\n",
       "4897     c_542  67.0    2268.21"
      ]
     },
     "execution_count": 7,
     "metadata": {},
     "output_type": "execute_result"
    }
   ],
   "source": [
    "print(\"Affichage des individues qui ont 67 ans\")\n",
    "df_QT_QT_ClientAgeCA[df_QT_QT_ClientAgeCA[\"age\"] == 67].sort_values(by=[\"CA_Client\"], ascending=False).head(5)"
   ]
  },
  {
   "cell_type": "markdown",
   "id": "f04b7206",
   "metadata": {},
   "source": [
    "# Analyse descriptive des données"
   ]
  },
  {
   "cell_type": "code",
   "execution_count": 8,
   "id": "9a1f44c0",
   "metadata": {},
   "outputs": [
    {
     "name": "stdout",
     "output_type": "stream",
     "text": [
      "La dimension de DataFrame « df_QT_QT_ClientAgeCA » : (8596, 3) (lignes, colonnes)\n",
      "\n",
      "<class 'pandas.core.frame.DataFrame'>\n",
      "RangeIndex: 8596 entries, 0 to 8595\n",
      "Data columns (total 3 columns):\n",
      " #   Column     Non-Null Count  Dtype  \n",
      "---  ------     --------------  -----  \n",
      " 0   client_id  8596 non-null   object \n",
      " 1   age        8596 non-null   float64\n",
      " 2   CA_Client  8596 non-null   float64\n",
      "dtypes: float64(2), object(1)\n",
      "memory usage: 201.6+ KB\n"
     ]
    },
    {
     "data": {
      "text/plain": [
       "None"
      ]
     },
     "metadata": {},
     "output_type": "display_data"
    },
    {
     "data": {
      "text/html": [
       "<div>\n",
       "<style scoped>\n",
       "    .dataframe tbody tr th:only-of-type {\n",
       "        vertical-align: middle;\n",
       "    }\n",
       "\n",
       "    .dataframe tbody tr th {\n",
       "        vertical-align: top;\n",
       "    }\n",
       "\n",
       "    .dataframe thead th {\n",
       "        text-align: right;\n",
       "    }\n",
       "</style>\n",
       "<table border=\"1\" class=\"dataframe\">\n",
       "  <thead>\n",
       "    <tr style=\"text-align: right;\">\n",
       "      <th></th>\n",
       "      <th>client_id</th>\n",
       "      <th>age</th>\n",
       "      <th>CA_Client</th>\n",
       "    </tr>\n",
       "  </thead>\n",
       "  <tbody>\n",
       "    <tr>\n",
       "      <th>0</th>\n",
       "      <td>c_1</td>\n",
       "      <td>67.0</td>\n",
       "      <td>558.18</td>\n",
       "    </tr>\n",
       "    <tr>\n",
       "      <th>1</th>\n",
       "      <td>c_10</td>\n",
       "      <td>66.0</td>\n",
       "      <td>1353.60</td>\n",
       "    </tr>\n",
       "    <tr>\n",
       "      <th>2</th>\n",
       "      <td>c_100</td>\n",
       "      <td>30.0</td>\n",
       "      <td>254.85</td>\n",
       "    </tr>\n",
       "    <tr>\n",
       "      <th>3</th>\n",
       "      <td>c_1000</td>\n",
       "      <td>56.0</td>\n",
       "      <td>2261.89</td>\n",
       "    </tr>\n",
       "    <tr>\n",
       "      <th>4</th>\n",
       "      <td>c_1001</td>\n",
       "      <td>40.0</td>\n",
       "      <td>1812.86</td>\n",
       "    </tr>\n",
       "  </tbody>\n",
       "</table>\n",
       "</div>"
      ],
      "text/plain": [
       "  client_id   age  CA_Client\n",
       "0       c_1  67.0     558.18\n",
       "1      c_10  66.0    1353.60\n",
       "2     c_100  30.0     254.85\n",
       "3    c_1000  56.0    2261.89\n",
       "4    c_1001  40.0    1812.86"
      ]
     },
     "metadata": {},
     "output_type": "display_data"
    },
    {
     "data": {
      "text/html": [
       "<div>\n",
       "<style scoped>\n",
       "    .dataframe tbody tr th:only-of-type {\n",
       "        vertical-align: middle;\n",
       "    }\n",
       "\n",
       "    .dataframe tbody tr th {\n",
       "        vertical-align: top;\n",
       "    }\n",
       "\n",
       "    .dataframe thead th {\n",
       "        text-align: right;\n",
       "    }\n",
       "</style>\n",
       "<table border=\"1\" class=\"dataframe\">\n",
       "  <thead>\n",
       "    <tr style=\"text-align: right;\">\n",
       "      <th></th>\n",
       "      <th>count</th>\n",
       "      <th>mean</th>\n",
       "      <th>std</th>\n",
       "      <th>min</th>\n",
       "      <th>25%</th>\n",
       "      <th>50%</th>\n",
       "      <th>75%</th>\n",
       "      <th>max</th>\n",
       "    </tr>\n",
       "  </thead>\n",
       "  <tbody>\n",
       "    <tr>\n",
       "      <th>age</th>\n",
       "      <td>8596.0</td>\n",
       "      <td>43.739646</td>\n",
       "      <td>16.910542</td>\n",
       "      <td>18.00</td>\n",
       "      <td>30.00</td>\n",
       "      <td>43.000</td>\n",
       "      <td>56.0000</td>\n",
       "      <td>93.00</td>\n",
       "    </tr>\n",
       "    <tr>\n",
       "      <th>CA_Client</th>\n",
       "      <td>8596.0</td>\n",
       "      <td>1276.488848</td>\n",
       "      <td>954.182275</td>\n",
       "      <td>6.31</td>\n",
       "      <td>547.29</td>\n",
       "      <td>1026.845</td>\n",
       "      <td>1778.3175</td>\n",
       "      <td>5276.87</td>\n",
       "    </tr>\n",
       "  </tbody>\n",
       "</table>\n",
       "</div>"
      ],
      "text/plain": [
       "            count         mean         std    min     25%       50%  \\\n",
       "age        8596.0    43.739646   16.910542  18.00   30.00    43.000   \n",
       "CA_Client  8596.0  1276.488848  954.182275   6.31  547.29  1026.845   \n",
       "\n",
       "                 75%      max  \n",
       "age          56.0000    93.00  \n",
       "CA_Client  1778.3175  5276.87  "
      ]
     },
     "metadata": {},
     "output_type": "display_data"
    },
    {
     "data": {
      "text/plain": [
       "client_id    8596\n",
       "age            76\n",
       "CA_Client    8443\n",
       "dtype: int64"
      ]
     },
     "metadata": {},
     "output_type": "display_data"
    }
   ],
   "source": [
    "# Visualisualisation de df_QT_QT_ClientAgeCA\n",
    "analyseDataFrame(df_QT_QT_ClientAgeCA)"
   ]
  },
  {
   "cell_type": "markdown",
   "id": "70d1f4b4",
   "metadata": {},
   "source": [
    "# Visualisation de distribution de chaque variable"
   ]
  },
  {
   "cell_type": "code",
   "execution_count": 9,
   "id": "da57faae",
   "metadata": {},
   "outputs": [
    {
     "data": {
      "image/png": "[encoded data removed]",
      "text/plain": [
       "<Figure size 864x360 with 1 Axes>"
      ]
     },
     "metadata": {},
     "output_type": "display_data"
    },
    {
     "data": {
      "image/png": "[encoded data removed]",
      "text/plain": [
       "<Figure size 864x360 with 1 Axes>"
      ]
     },
     "metadata": {},
     "output_type": "display_data"
    }
   ],
   "source": [
    "sns.set_style(\"ticks\") # Parameters style dict, or one of {darkgrid, whitegrid, dark, white, ticks}\n",
    "\n",
    "sns.set_context(\"paper\") # Parameters context dict, or one of {paper, notebook, talk, poster}\n",
    "\n",
    "plt.figure(figsize = (12,5))\n",
    "\n",
    "_ = sns.histplot(df_QT_QT_ClientAgeCA[\"age\"], color='red', kde=True, stat=\"density\", linewidth=0)\n",
    "\n",
    "_ = plt.axvline(x=df_QT_QT_ClientAgeCA[\"age\"].mean(), label='Moyenne', linestyle='-', linewidth=2, color='red')\n",
    "_ = plt.axvline(x=df_QT_QT_ClientAgeCA[\"age\"].median(), label='Médiane', linestyle='--', linewidth=2, color='red')\n",
    "_ = plt.title(\"Distribution de l'âge des clients\", fontsize=18)\n",
    "_ = plt.ylabel(\"Individues (clients)\", fontsize=12)\n",
    "_ = plt.xlabel(\"Âge\", fontsize=12)\n",
    "_ = plt.legend(prop={'size': 12})\n",
    "_ = plt.show()\n",
    "\n",
    "plt.figure(figsize = (12,5))\n",
    "_ = sns.histplot(df_QT_QT_ClientAgeCA[\"CA_Client\"], color='blue', binwidth=2,  kde=True, stat=\"density\", linewidth=0)\n",
    "\n",
    "_ = plt.axvline(x=df_QT_QT_ClientAgeCA[\"CA_Client\"].mean(), label='Moyenne', linestyle='-', linewidth=2, color='blue')\n",
    "_ = plt.axvline(x=df_QT_QT_ClientAgeCA[\"CA_Client\"].median(), label='Médiane', linestyle='--', linewidth=2, color='blue')\n",
    "_ = plt.title(\"Distribution du chiffre d'affaires des clients\", fontsize=18)\n",
    "_ = plt.ylabel(\"Individues (clients)\", fontsize=12)\n",
    "_ = plt.xlabel(\"CA_Client\", fontsize=12)\n",
    "_ = plt.legend(prop={'size': 12})\n",
    "_ = plt.show()\n",
    "\n",
    "# _ = plt.tight_layout()\n",
    "\n",
    "_ = plt.show()"
   ]
  },
  {
   "cell_type": "markdown",
   "id": "f32858b9",
   "metadata": {},
   "source": [
    "# Test de normalité"
   ]
  },
  {
   "cell_type": "code",
   "execution_count": 10,
   "id": "5b85d246",
   "metadata": {},
   "outputs": [
    {
     "name": "stdout",
     "output_type": "stream",
     "text": [
      "Premier test shapiro-Wilk -----------------------------------------------------------\n",
      "Statistics=0.970, p=0.000\n",
      "L'échantillon 'Âges' ne semble pas avoir une distribution Gaussienne (rejeter H0\n",
      "\n",
      "Deuxième test shapiro-Wilk -----------------------------------------------------------\n",
      "Statistics=0.904, p=0.000\n",
      "L'échantillon 'CA_Client' ne semble pas avoir une distribution Gaussienne (rejeter H0)\n",
      "\n"
     ]
    },
    {
     "name": "stderr",
     "output_type": "stream",
     "text": [
      "/Users/jenny/opt/anaconda3/lib/python3.9/site-packages/scipy/stats/morestats.py:1760: UserWarning: p-value may not be accurate for N > 5000.\n",
      "  warnings.warn(\"p-value may not be accurate for N > 5000.\")\n"
     ]
    }
   ],
   "source": [
    "# Article pour interpretation de résultat 'stat' ou 'W'\n",
    "\n",
    "# test de normalité shapiro-Wilk (loi normal)\n",
    "# H0 : l'échantillon suit une loi normal / l'echantillon a une distribution Gaussienne\n",
    "# H1 : hypothèse alternative\n",
    "\n",
    "print(\"Premier test shapiro-Wilk -----------------------------------------------------------\")\n",
    "df_name = 'Âges'\n",
    "\n",
    "stat, p_value = st.shapiro(df_QT_QT_ClientAgeCA[\"age\"])\n",
    "print('Statistics=%.3f, p=%.3f' % (stat, p_value))\n",
    "\n",
    "alpha = 0.05\n",
    "\n",
    "if p_value > alpha:\n",
    "    print(f\"L'échantillon '{df_name}' semble avoir une distribution Gaussienne (ne pas rejeter H0\")\n",
    "else:\n",
    "    print(f\"L'échantillon '{df_name}' ne semble pas avoir une distribution Gaussienne (rejeter H0\")\n",
    "print()\n",
    "# Interprétation : si la valeur-p est inférieure à une seuil α qu’on s’est donné (en général, 5%),\n",
    "# alors on rejette H0.\n",
    "\n",
    "print(\"Deuxième test shapiro-Wilk -----------------------------------------------------------\")\n",
    "df_name = 'CA_Client'\n",
    "\n",
    "stat, p_value = st.shapiro(df_QT_QT_ClientAgeCA[\"CA_Client\"])\n",
    "print('Statistics=%.3f, p=%.3f' % (stat, p_value))\n",
    "\n",
    "alpha = 0.05\n",
    "\n",
    "if p_value > alpha:\n",
    "    print(f\"L'échantillon '{df_name}' semble avoir une distribution Gaussienne (ne pas rejeter H0)\")\n",
    "else:\n",
    "    print(f\"L'échantillon '{df_name}' ne semble pas avoir une distribution Gaussienne (rejeter H0)\")\n",
    "print()\n",
    "# Interprétation : si la valeur-p est inférieure à une seuil α qu’on s’est donné (en général, 5%),\n",
    "# alors on rejette H0."
   ]
  },
  {
   "cell_type": "code",
   "execution_count": 11,
   "id": "274a13e3",
   "metadata": {},
   "outputs": [
    {
     "name": "stdout",
     "output_type": "stream",
     "text": [
      "Premier test Smirnov-Kolmogorov -----------------------------------------------------------\n",
      "Statistics=1.000, p=0.000\n",
      "L'échantillon 'Âge' ne semble pas avoir une distribution Gaussienne (rejeter H0\n",
      "\n",
      "Deuxième test Smirnov-Kolmogorov -----------------------------------------------------------\n",
      "Statistics=1.000, p=0.000\n",
      "L'échantillon 'CA_Client' ne semble pas avoir une distribution Gaussienne (rejeter H0)\n",
      "\n"
     ]
    }
   ],
   "source": [
    "# test de normalité Smirnov-Kolmogorov (loi normal)\n",
    "# H0 : l'échantillon suit une loi normal / l'echantillon a une distribution Gaussienne\n",
    "# H1 : hypothèse alternative\n",
    "\n",
    "print(\"Premier test Smirnov-Kolmogorov -----------------------------------------------------------\")\n",
    "df_name = 'Âge'\n",
    "\n",
    "stat, p_value = st.kstest(df_QT_QT_ClientAgeCA[\"age\"], \"norm\")\n",
    "print('Statistics=%.3f, p=%.3f' % (stat, p_value))\n",
    "\n",
    "alpha = 0.05\n",
    "\n",
    "if p_value > alpha:\n",
    "    print(f\"L'échantillon '{df_name}' semble avoir une distribution Gaussienne (ne pas rejeter H0\")\n",
    "else:\n",
    "    print(f\"L'échantillon '{df_name}' ne semble pas avoir une distribution Gaussienne (rejeter H0\")\n",
    "print()\n",
    "# Interprétation : si la valeur-p est inférieure à une seuil α qu’on s’est donné (en général, 5%),\n",
    "# alors on rejette H0.\n",
    "\n",
    "print(\"Deuxième test Smirnov-Kolmogorov -----------------------------------------------------------\")\n",
    "df_name = 'CA_Client'\n",
    "\n",
    "stat, p_value = st.kstest(df_QT_QT_ClientAgeCA[\"CA_Client\"], \"norm\")\n",
    "print('Statistics=%.3f, p=%.3f' % (stat, p_value))\n",
    "\n",
    "alpha = 0.05\n",
    "\n",
    "if p_value > alpha:\n",
    "    print(f\"L'échantillon '{df_name}' semble avoir une distribution Gaussienne (ne pas rejeter H0)\")\n",
    "else:\n",
    "    print(f\"L'échantillon '{df_name}' ne semble pas avoir une distribution Gaussienne (rejeter H0)\")\n",
    "print()\n",
    "# Interprétation : si la valeur-p est inférieure à une seuil α qu’on s’est donné (en général, 5%),\n",
    "# alors on rejette H0."
   ]
  },
  {
   "cell_type": "markdown",
   "id": "59764563",
   "metadata": {},
   "source": [
    "# Test de corrélations"
   ]
  },
  {
   "cell_type": "markdown",
   "id": "2b494d5f",
   "metadata": {},
   "source": [
    "### Pearson’s Correlation Coefficient"
   ]
  },
  {
   "cell_type": "code",
   "execution_count": 12,
   "id": "4d2cc210",
   "metadata": {},
   "outputs": [
    {
     "name": "stdout",
     "output_type": "stream",
     "text": [
      "r de Pearson          : -0.18837617927219408\n",
      "indice de covariation : -3039.235249825635\n",
      "r-squared             :  0.035485584917189804  (le coefficient de détermination)\n",
      "p-value               :  1.7101053363397493e-69\n",
      "\n",
      "Probablement dependente :\n",
      "Probablement la variable « Âge » est liée à la variable « Chiffre d'affaires clients »\n",
      "\n"
     ]
    }
   ],
   "source": [
    "x = df_QT_QT_ClientAgeCA[\"age\"]\n",
    "y = df_QT_QT_ClientAgeCA[\"CA_Client\"]\n",
    "\n",
    "x_name = \"Âge\"\n",
    "y_name = \"Chiffre d'affaires clients\"\n",
    "\n",
    "alpha = 0.05\n",
    "\n",
    "r_pearson, p_value = st.pearsonr(x, y)\n",
    "\n",
    "# r de Pearson\n",
    "print('r de Pearson          :', r_pearson)\n",
    "\n",
    "\n",
    "# indice de covariation\n",
    "print('indice de covariation :', np.cov(x, y, ddof=0)[1,0])\n",
    "\n",
    "# Coefficient de détermination / R2 / r-squared\n",
    "print('r-squared             : ', r_pearson**2, \" (le coefficient de détermination)\")\n",
    "\n",
    "print('p-value               : ', p_value)\n",
    "\n",
    "print()\n",
    "\n",
    "if p_value > alpha:\n",
    "    print(\"Probablement independente :\")\n",
    "    print(f\"Probablement la variable « {x_name} » n'est pas liée à la variable « {y_name} »\")\n",
    "else:\n",
    "    print(\"Probablement dependente :\")\n",
    "    print(f\"Probablement la variable « {x_name} » est liée à la variable « {y_name} »\")\n",
    "print()"
   ]
  },
  {
   "cell_type": "markdown",
   "id": "c108d410",
   "metadata": {},
   "source": [
    "### Spearman’s Rank Correlation"
   ]
  },
  {
   "cell_type": "code",
   "execution_count": 13,
   "id": "718b1c65",
   "metadata": {},
   "outputs": [
    {
     "name": "stdout",
     "output_type": "stream",
     "text": [
      "Spearmanr stat :  -0.1851390805263805\n",
      "p-value        :  3.7882642621417936e-67\n",
      "\n",
      "Probablement dependente :\n",
      "Probablement la variable « Âge » est liée à la variable « Chiffre d'affaires »\n",
      "\n"
     ]
    }
   ],
   "source": [
    "x = df_QT_QT_ClientAgeCA[\"age\"]\n",
    "y = df_QT_QT_ClientAgeCA[\"CA_Client\"]\n",
    "\n",
    "x_name = \"Âge\"\n",
    "y_name = \"Chiffre d'affaires\"\n",
    "\n",
    "alpha = 0.05\n",
    "\n",
    "stat, p_value = st.spearmanr(x, y)\n",
    "\n",
    "print('Spearmanr stat : ', stat)\n",
    "\n",
    "print('p-value        : ', p_value)\n",
    "\n",
    "print()\n",
    "\n",
    "if p_value > alpha:\n",
    "    print(\"Probablement independente :\")\n",
    "    print(f\"Probablement la variable « {x_name} » n'est pas liée à la variable « {y_name} »\")\n",
    "else:\n",
    "    print(\"Probablement dependente :\")\n",
    "    print(f\"Probablement la variable « {x_name} » est liée à la variable « {y_name} »\")\n",
    "print()"
   ]
  },
  {
   "cell_type": "markdown",
   "id": "6e01cdea",
   "metadata": {},
   "source": [
    "### Kendall’s Rank Correlation"
   ]
  },
  {
   "cell_type": "code",
   "execution_count": 14,
   "id": "b8a352f7",
   "metadata": {},
   "outputs": [
    {
     "name": "stdout",
     "output_type": "stream",
     "text": [
      "Kendalltau stat :  -0.12413364556120854\n",
      "p-value         :  1.4146174664063088e-65\n",
      "\n",
      "Probablement dependente :\n",
      "Probablement la variable « Âge » est liée à la variable « Chiffre d'affaires clients »\n",
      "\n"
     ]
    }
   ],
   "source": [
    "x = df_QT_QT_ClientAgeCA[\"age\"]\n",
    "y = df_QT_QT_ClientAgeCA[\"CA_Client\"]\n",
    "\n",
    "x_name = \"Âge\"\n",
    "y_name = \"Chiffre d'affaires clients\"\n",
    "\n",
    "alpha = 0.05\n",
    "\n",
    "stat, p_value = st.kendalltau(x, y)\n",
    "\n",
    "print('Kendalltau stat : ', stat)\n",
    "\n",
    "print('p-value         : ', p_value)\n",
    "\n",
    "print()\n",
    "\n",
    "if p_value > alpha:\n",
    "    print(\"Probablement independente :\")\n",
    "    print(f\"Probablement la variable « {x_name} » n'est pas liée à la variable « {y_name} »\")\n",
    "else:\n",
    "    print(\"Probablement dependente :\")\n",
    "    print(f\"Probablement la variable « {x_name} » est liée à la variable « {y_name} »\")\n",
    "print()"
   ]
  },
  {
   "cell_type": "code",
   "execution_count": 16,
   "id": "b8077dec",
   "metadata": {},
   "outputs": [
    {
     "data": {
      "text/plain": [
       "[<matplotlib.lines.Line2D at 0x7f94867228b0>]"
      ]
     },
     "execution_count": 16,
     "metadata": {},
     "output_type": "execute_result"
    },
    {
     "data": {
      "image/png": "[encoded data removed]",
      "text/plain": [
       "<Figure size 432x288 with 1 Axes>"
      ]
     },
     "metadata": {},
     "output_type": "display_data"
    }
   ],
   "source": [
    "#linregress() renvoie plusieurs variables de retour. On s'interessera \n",
    "# particulierement au slope et intercept\n",
    "slope, intercept, r_value, p_value, std_err = st.linregress(df_QT_QT_ClientAgeCA[\"age\"],\n",
    "                                                            df_QT_QT_ClientAgeCA[\"CA_Client\"])\n",
    "\n",
    "plt.plot(df_QT_QT_ClientAgeCA[\"age\"],df_QT_QT_ClientAgeCA[\"CA_Client\"],\"bo\")\n",
    "plt.xlabel(\"Âge\")\n",
    "plt.ylabel(\"CA Client\")\n",
    "#la variable fitLine sera un tableau de valeurs prédites depuis la tableau de variables X\n",
    "#fitLine = predict(df_QT_QT_ClientAgeCA['age'])\n",
    "fitLine = slope * df_QT_QT_ClientAgeCA[\"age\"] + intercept\n",
    "plt.plot(df_QT_QT_ClientAgeCA[\"age\"], fitLine, c=\"r\")"
   ]
  }
 ],
 "metadata": {
  "kernelspec": {
   "display_name": "Python 3 (ipykernel)",
   "language": "python",
   "name": "python3"
  },
  "language_info": {
   "codemirror_mode": {
    "name": "ipython",
    "version": 3
   },
   "file_extension": ".py",
   "mimetype": "text/x-python",
   "name": "python",
   "nbconvert_exporter": "python",
   "pygments_lexer": "ipython3",
   "version": "3.9.12"
  }
 },
 "nbformat": 4,
 "nbformat_minor": 5
}
