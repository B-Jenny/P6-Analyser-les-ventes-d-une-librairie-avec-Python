{
 "cells": [
  {
   "cell_type": "markdown",
   "id": "f74483b9",
   "metadata": {},
   "source": [
    "# Corrélation Age- Fréquence d'achats clients\n",
    "## Quanti/Quanti"
   ]
  },
  {
   "cell_type": "code",
   "execution_count": 1,
   "id": "8650d6f0",
   "metadata": {},
   "outputs": [],
   "source": [
    "# Importation des librairies\n",
    "import numpy as np\n",
    "import pandas as pd\n",
    "import seaborn as sns\n",
    "import matplotlib.pyplot as plt\n",
    "import scipy.stats as st\n",
    "import datetime\n",
    "\n",
    "\n",
    "from matplotlib import gridspec\n",
    "from datetime import datetime"
   ]
  },
  {
   "cell_type": "code",
   "execution_count": 2,
   "id": "af4b99ec",
   "metadata": {},
   "outputs": [],
   "source": [
    "# Déclaration d'une fonction\n",
    "def analyseDataFrame(df):\n",
    "    \"\"\"Fonction qui prend en arguments un dataframe pour analyse.\"\"\"\n",
    "\n",
    "    name =[x for x in globals() if globals()[x] is df][0]\n",
    "    print(\"La dimension de DataFrame « \" + name  +\" » : \" + str(df.shape) + \" (lignes, colonnes)\\n\")\n",
    "    display(df.info())\n",
    "    display(df.head())\n",
    "    display(df.describe().T)\n",
    "    display(df.nunique())"
   ]
  },
  {
   "cell_type": "code",
   "execution_count": 3,
   "id": "693f1b72",
   "metadata": {},
   "outputs": [
    {
     "name": "stdout",
     "output_type": "stream",
     "text": [
      "La dimension de DataFrame « df_enrichi » : (679111, 11) (lignes, colonnes)\n",
      "\n",
      "<class 'pandas.core.frame.DataFrame'>\n",
      "DatetimeIndex: 679111 entries, 2021-03-01 00:01:07.843138 to 2023-02-28 23:58:30.792755\n",
      "Data columns (total 11 columns):\n",
      " #   Column      Non-Null Count   Dtype  \n",
      "---  ------      --------------   -----  \n",
      " 0   Unnamed: 0  679111 non-null  int64  \n",
      " 1   client_id   679111 non-null  object \n",
      " 2   sex         679111 non-null  object \n",
      " 3   birth       679111 non-null  float64\n",
      " 4   age         679111 non-null  float64\n",
      " 5   id_prod     679111 non-null  object \n",
      " 6   date        679111 non-null  object \n",
      " 7   session_id  679111 non-null  object \n",
      " 8   price       679111 non-null  float64\n",
      " 9   categ       679111 non-null  float64\n",
      " 10  _merge      679111 non-null  object \n",
      "dtypes: float64(4), int64(1), object(6)\n",
      "memory usage: 62.2+ MB\n"
     ]
    },
    {
     "data": {
      "text/plain": [
       "None"
      ]
     },
     "metadata": {},
     "output_type": "display_data"
    },
    {
     "data": {
      "text/html": [
       "<div>\n",
       "<style scoped>\n",
       "    .dataframe tbody tr th:only-of-type {\n",
       "        vertical-align: middle;\n",
       "    }\n",
       "\n",
       "    .dataframe tbody tr th {\n",
       "        vertical-align: top;\n",
       "    }\n",
       "\n",
       "    .dataframe thead th {\n",
       "        text-align: right;\n",
       "    }\n",
       "</style>\n",
       "<table border=\"1\" class=\"dataframe\">\n",
       "  <thead>\n",
       "    <tr style=\"text-align: right;\">\n",
       "      <th></th>\n",
       "      <th>Unnamed: 0</th>\n",
       "      <th>client_id</th>\n",
       "      <th>sex</th>\n",
       "      <th>birth</th>\n",
       "      <th>age</th>\n",
       "      <th>id_prod</th>\n",
       "      <th>date</th>\n",
       "      <th>session_id</th>\n",
       "      <th>price</th>\n",
       "      <th>categ</th>\n",
       "      <th>_merge</th>\n",
       "    </tr>\n",
       "    <tr>\n",
       "      <th>date_2</th>\n",
       "      <th></th>\n",
       "      <th></th>\n",
       "      <th></th>\n",
       "      <th></th>\n",
       "      <th></th>\n",
       "      <th></th>\n",
       "      <th></th>\n",
       "      <th></th>\n",
       "      <th></th>\n",
       "      <th></th>\n",
       "      <th></th>\n",
       "    </tr>\n",
       "  </thead>\n",
       "  <tbody>\n",
       "    <tr>\n",
       "      <th>2021-03-01 00:01:07.843138</th>\n",
       "      <td>129502</td>\n",
       "      <td>c_329</td>\n",
       "      <td>f</td>\n",
       "      <td>1967.0</td>\n",
       "      <td>55.0</td>\n",
       "      <td>0_1259</td>\n",
       "      <td>2021-03-01 00:01:07.843138</td>\n",
       "      <td>s_1</td>\n",
       "      <td>11.99</td>\n",
       "      <td>0.0</td>\n",
       "      <td>both</td>\n",
       "    </tr>\n",
       "    <tr>\n",
       "      <th>2021-03-01 00:02:26.047414</th>\n",
       "      <td>17306</td>\n",
       "      <td>c_664</td>\n",
       "      <td>m</td>\n",
       "      <td>1960.0</td>\n",
       "      <td>62.0</td>\n",
       "      <td>0_1390</td>\n",
       "      <td>2021-03-01 00:02:26.047414</td>\n",
       "      <td>s_2</td>\n",
       "      <td>19.37</td>\n",
       "      <td>0.0</td>\n",
       "      <td>both</td>\n",
       "    </tr>\n",
       "    <tr>\n",
       "      <th>2021-03-01 00:02:38.311413</th>\n",
       "      <td>146527</td>\n",
       "      <td>c_580</td>\n",
       "      <td>m</td>\n",
       "      <td>1988.0</td>\n",
       "      <td>34.0</td>\n",
       "      <td>0_1352</td>\n",
       "      <td>2021-03-01 00:02:38.311413</td>\n",
       "      <td>s_3</td>\n",
       "      <td>4.50</td>\n",
       "      <td>0.0</td>\n",
       "      <td>both</td>\n",
       "    </tr>\n",
       "    <tr>\n",
       "      <th>2021-03-01 00:04:54.559692</th>\n",
       "      <td>506717</td>\n",
       "      <td>c_7912</td>\n",
       "      <td>f</td>\n",
       "      <td>1989.0</td>\n",
       "      <td>33.0</td>\n",
       "      <td>0_1458</td>\n",
       "      <td>2021-03-01 00:04:54.559692</td>\n",
       "      <td>s_4</td>\n",
       "      <td>6.55</td>\n",
       "      <td>0.0</td>\n",
       "      <td>both</td>\n",
       "    </tr>\n",
       "    <tr>\n",
       "      <th>2021-03-01 00:05:18.801198</th>\n",
       "      <td>218220</td>\n",
       "      <td>c_2033</td>\n",
       "      <td>f</td>\n",
       "      <td>1956.0</td>\n",
       "      <td>66.0</td>\n",
       "      <td>0_1358</td>\n",
       "      <td>2021-03-01 00:05:18.801198</td>\n",
       "      <td>s_5</td>\n",
       "      <td>16.49</td>\n",
       "      <td>0.0</td>\n",
       "      <td>both</td>\n",
       "    </tr>\n",
       "  </tbody>\n",
       "</table>\n",
       "</div>"
      ],
      "text/plain": [
       "                            Unnamed: 0 client_id sex   birth   age id_prod  \\\n",
       "date_2                                                                       \n",
       "2021-03-01 00:01:07.843138      129502     c_329   f  1967.0  55.0  0_1259   \n",
       "2021-03-01 00:02:26.047414       17306     c_664   m  1960.0  62.0  0_1390   \n",
       "2021-03-01 00:02:38.311413      146527     c_580   m  1988.0  34.0  0_1352   \n",
       "2021-03-01 00:04:54.559692      506717    c_7912   f  1989.0  33.0  0_1458   \n",
       "2021-03-01 00:05:18.801198      218220    c_2033   f  1956.0  66.0  0_1358   \n",
       "\n",
       "                                                  date session_id  price  \\\n",
       "date_2                                                                     \n",
       "2021-03-01 00:01:07.843138  2021-03-01 00:01:07.843138        s_1  11.99   \n",
       "2021-03-01 00:02:26.047414  2021-03-01 00:02:26.047414        s_2  19.37   \n",
       "2021-03-01 00:02:38.311413  2021-03-01 00:02:38.311413        s_3   4.50   \n",
       "2021-03-01 00:04:54.559692  2021-03-01 00:04:54.559692        s_4   6.55   \n",
       "2021-03-01 00:05:18.801198  2021-03-01 00:05:18.801198        s_5  16.49   \n",
       "\n",
       "                            categ _merge  \n",
       "date_2                                    \n",
       "2021-03-01 00:01:07.843138    0.0   both  \n",
       "2021-03-01 00:02:26.047414    0.0   both  \n",
       "2021-03-01 00:02:38.311413    0.0   both  \n",
       "2021-03-01 00:04:54.559692    0.0   both  \n",
       "2021-03-01 00:05:18.801198    0.0   both  "
      ]
     },
     "metadata": {},
     "output_type": "display_data"
    },
    {
     "data": {
      "text/html": [
       "<div>\n",
       "<style scoped>\n",
       "    .dataframe tbody tr th:only-of-type {\n",
       "        vertical-align: middle;\n",
       "    }\n",
       "\n",
       "    .dataframe tbody tr th {\n",
       "        vertical-align: top;\n",
       "    }\n",
       "\n",
       "    .dataframe thead th {\n",
       "        text-align: right;\n",
       "    }\n",
       "</style>\n",
       "<table border=\"1\" class=\"dataframe\">\n",
       "  <thead>\n",
       "    <tr style=\"text-align: right;\">\n",
       "      <th></th>\n",
       "      <th>count</th>\n",
       "      <th>mean</th>\n",
       "      <th>std</th>\n",
       "      <th>min</th>\n",
       "      <th>25%</th>\n",
       "      <th>50%</th>\n",
       "      <th>75%</th>\n",
       "      <th>max</th>\n",
       "    </tr>\n",
       "  </thead>\n",
       "  <tbody>\n",
       "    <tr>\n",
       "      <th>Unnamed: 0</th>\n",
       "      <td>679111.0</td>\n",
       "      <td>339599.602812</td>\n",
       "      <td>196104.276737</td>\n",
       "      <td>0.00</td>\n",
       "      <td>169777.50</td>\n",
       "      <td>339555.00</td>\n",
       "      <td>509332.50</td>\n",
       "      <td>679331.0</td>\n",
       "    </tr>\n",
       "    <tr>\n",
       "      <th>birth</th>\n",
       "      <td>679111.0</td>\n",
       "      <td>1977.811149</td>\n",
       "      <td>13.575361</td>\n",
       "      <td>1929.00</td>\n",
       "      <td>1970.00</td>\n",
       "      <td>1980.00</td>\n",
       "      <td>1987.00</td>\n",
       "      <td>2004.0</td>\n",
       "    </tr>\n",
       "    <tr>\n",
       "      <th>age</th>\n",
       "      <td>679111.0</td>\n",
       "      <td>44.188851</td>\n",
       "      <td>13.575361</td>\n",
       "      <td>18.00</td>\n",
       "      <td>35.00</td>\n",
       "      <td>42.00</td>\n",
       "      <td>52.00</td>\n",
       "      <td>93.0</td>\n",
       "    </tr>\n",
       "    <tr>\n",
       "      <th>price</th>\n",
       "      <td>679111.0</td>\n",
       "      <td>17.454773</td>\n",
       "      <td>18.328998</td>\n",
       "      <td>0.62</td>\n",
       "      <td>8.87</td>\n",
       "      <td>13.99</td>\n",
       "      <td>18.99</td>\n",
       "      <td>300.0</td>\n",
       "    </tr>\n",
       "    <tr>\n",
       "      <th>categ</th>\n",
       "      <td>679111.0</td>\n",
       "      <td>0.441953</td>\n",
       "      <td>0.595042</td>\n",
       "      <td>0.00</td>\n",
       "      <td>0.00</td>\n",
       "      <td>0.00</td>\n",
       "      <td>1.00</td>\n",
       "      <td>2.0</td>\n",
       "    </tr>\n",
       "  </tbody>\n",
       "</table>\n",
       "</div>"
      ],
      "text/plain": [
       "               count           mean            std      min        25%  \\\n",
       "Unnamed: 0  679111.0  339599.602812  196104.276737     0.00  169777.50   \n",
       "birth       679111.0    1977.811149      13.575361  1929.00    1970.00   \n",
       "age         679111.0      44.188851      13.575361    18.00      35.00   \n",
       "price       679111.0      17.454773      18.328998     0.62       8.87   \n",
       "categ       679111.0       0.441953       0.595042     0.00       0.00   \n",
       "\n",
       "                  50%        75%       max  \n",
       "Unnamed: 0  339555.00  509332.50  679331.0  \n",
       "birth         1980.00    1987.00    2004.0  \n",
       "age             42.00      52.00      93.0  \n",
       "price           13.99      18.99     300.0  \n",
       "categ            0.00       1.00       2.0  "
      ]
     },
     "metadata": {},
     "output_type": "display_data"
    },
    {
     "data": {
      "text/plain": [
       "Unnamed: 0    679111\n",
       "client_id       8600\n",
       "sex                2\n",
       "birth             76\n",
       "age               76\n",
       "id_prod         3265\n",
       "date          679111\n",
       "session_id    342275\n",
       "price           1442\n",
       "categ              3\n",
       "_merge             1\n",
       "dtype: int64"
      ]
     },
     "metadata": {},
     "output_type": "display_data"
    }
   ],
   "source": [
    "# Importation du dataFrame 'df_enrichi'\n",
    "df_enrichi = pd.read_csv(\"df_enrichi.csv\", index_col=\"date_2\", parse_dates= True)\n",
    "\n",
    "# Vérifier que la première colonne est une idex\n",
    "df_enrichi.index = pd.to_datetime(df_enrichi.index)\n",
    "\n",
    "# Trier sur la colonne date\n",
    "df_enrichi = df_enrichi.sort_index()\n",
    "\n",
    "# Visualisualisation de df_enrichi\n",
    "analyseDataFrame(df_enrichi)"
   ]
  },
  {
   "cell_type": "code",
   "execution_count": 4,
   "id": "35160e69",
   "metadata": {},
   "outputs": [
    {
     "data": {
      "text/html": [
       "<div>\n",
       "<style scoped>\n",
       "    .dataframe tbody tr th:only-of-type {\n",
       "        vertical-align: middle;\n",
       "    }\n",
       "\n",
       "    .dataframe tbody tr th {\n",
       "        vertical-align: top;\n",
       "    }\n",
       "\n",
       "    .dataframe thead th {\n",
       "        text-align: right;\n",
       "    }\n",
       "</style>\n",
       "<table border=\"1\" class=\"dataframe\">\n",
       "  <thead>\n",
       "    <tr style=\"text-align: right;\">\n",
       "      <th></th>\n",
       "      <th>client_id</th>\n",
       "      <th>age</th>\n",
       "      <th>nbr_sessions</th>\n",
       "      <th>nbr_sessions%</th>\n",
       "    </tr>\n",
       "  </thead>\n",
       "  <tbody>\n",
       "    <tr>\n",
       "      <th>0</th>\n",
       "      <td>c_1</td>\n",
       "      <td>67.0</td>\n",
       "      <td>33</td>\n",
       "      <td>0.009641</td>\n",
       "    </tr>\n",
       "    <tr>\n",
       "      <th>1</th>\n",
       "      <td>c_10</td>\n",
       "      <td>66.0</td>\n",
       "      <td>34</td>\n",
       "      <td>0.009934</td>\n",
       "    </tr>\n",
       "    <tr>\n",
       "      <th>2</th>\n",
       "      <td>c_100</td>\n",
       "      <td>30.0</td>\n",
       "      <td>5</td>\n",
       "      <td>0.001461</td>\n",
       "    </tr>\n",
       "    <tr>\n",
       "      <th>3</th>\n",
       "      <td>c_1000</td>\n",
       "      <td>56.0</td>\n",
       "      <td>93</td>\n",
       "      <td>0.027171</td>\n",
       "    </tr>\n",
       "    <tr>\n",
       "      <th>4</th>\n",
       "      <td>c_1001</td>\n",
       "      <td>40.0</td>\n",
       "      <td>47</td>\n",
       "      <td>0.013732</td>\n",
       "    </tr>\n",
       "  </tbody>\n",
       "</table>\n",
       "</div>"
      ],
      "text/plain": [
       "  client_id   age  nbr_sessions  nbr_sessions%\n",
       "0       c_1  67.0            33       0.009641\n",
       "1      c_10  66.0            34       0.009934\n",
       "2     c_100  30.0             5       0.001461\n",
       "3    c_1000  56.0            93       0.027171\n",
       "4    c_1001  40.0            47       0.013732"
      ]
     },
     "execution_count": 4,
     "metadata": {},
     "output_type": "execute_result"
    }
   ],
   "source": [
    "df_temp = df_enrichi[[\"client_id\", \"session_id\", \"age\"]].copy()\n",
    "df_temp = df_temp.drop_duplicates(subset = \"session_id\")\n",
    "\n",
    "nbr_sessions_total =df_temp.shape[0]\n",
    "\n",
    "df_Age_FrequenceAchatsClient = df_temp.groupby(\n",
    "    [\"client_id\", \"age\"]\n",
    ").agg(\n",
    "    {\n",
    "        'session_id': [\"count\"]\n",
    "    }).reset_index()\n",
    "df_Age_FrequenceAchatsClient.columns = [\"\".join(x) for x in df_Age_FrequenceAchatsClient.columns]\n",
    "df_Age_FrequenceAchatsClient.rename(columns = {\"session_idcount\" : \"nbr_sessions\"}, inplace = True)\n",
    "df_Age_FrequenceAchatsClient['nbr_sessions%'] = df_Age_FrequenceAchatsClient[\"nbr_sessions\"]*100 / nbr_sessions_total\n",
    "df_Age_FrequenceAchatsClient.head()\n"
   ]
  },
  {
   "cell_type": "code",
   "execution_count": 5,
   "id": "83dcfde4",
   "metadata": {},
   "outputs": [
    {
     "name": "stdout",
     "output_type": "stream",
     "text": [
      "Affichage des individues qui ont 67 ans\n"
     ]
    },
    {
     "data": {
      "text/html": [
       "<div>\n",
       "<style scoped>\n",
       "    .dataframe tbody tr th:only-of-type {\n",
       "        vertical-align: middle;\n",
       "    }\n",
       "\n",
       "    .dataframe tbody tr th {\n",
       "        vertical-align: top;\n",
       "    }\n",
       "\n",
       "    .dataframe thead th {\n",
       "        text-align: right;\n",
       "    }\n",
       "</style>\n",
       "<table border=\"1\" class=\"dataframe\">\n",
       "  <thead>\n",
       "    <tr style=\"text-align: right;\">\n",
       "      <th></th>\n",
       "      <th>client_id</th>\n",
       "      <th>age</th>\n",
       "      <th>nbr_sessions</th>\n",
       "      <th>nbr_sessions%</th>\n",
       "    </tr>\n",
       "  </thead>\n",
       "  <tbody>\n",
       "    <tr>\n",
       "      <th>8595</th>\n",
       "      <td>c_995</td>\n",
       "      <td>67.0</td>\n",
       "      <td>9</td>\n",
       "      <td>0.002629</td>\n",
       "    </tr>\n",
       "    <tr>\n",
       "      <th>8411</th>\n",
       "      <td>c_8587</td>\n",
       "      <td>67.0</td>\n",
       "      <td>71</td>\n",
       "      <td>0.020744</td>\n",
       "    </tr>\n",
       "    <tr>\n",
       "      <th>8400</th>\n",
       "      <td>c_8577</td>\n",
       "      <td>67.0</td>\n",
       "      <td>75</td>\n",
       "      <td>0.021912</td>\n",
       "    </tr>\n",
       "    <tr>\n",
       "      <th>8246</th>\n",
       "      <td>c_8438</td>\n",
       "      <td>67.0</td>\n",
       "      <td>32</td>\n",
       "      <td>0.009349</td>\n",
       "    </tr>\n",
       "    <tr>\n",
       "      <th>8077</th>\n",
       "      <td>c_8285</td>\n",
       "      <td>67.0</td>\n",
       "      <td>86</td>\n",
       "      <td>0.025126</td>\n",
       "    </tr>\n",
       "  </tbody>\n",
       "</table>\n",
       "</div>"
      ],
      "text/plain": [
       "     client_id   age  nbr_sessions  nbr_sessions%\n",
       "8595     c_995  67.0             9       0.002629\n",
       "8411    c_8587  67.0            71       0.020744\n",
       "8400    c_8577  67.0            75       0.021912\n",
       "8246    c_8438  67.0            32       0.009349\n",
       "8077    c_8285  67.0            86       0.025126"
      ]
     },
     "execution_count": 5,
     "metadata": {},
     "output_type": "execute_result"
    }
   ],
   "source": [
    "print(\"Affichage des individues qui ont 67 ans\")\n",
    "df_Age_FrequenceAchatsClient[df_Age_FrequenceAchatsClient[\"age\"] == 67].sort_values(by=[\"client_id\"], ascending=False).head(5)"
   ]
  },
  {
   "cell_type": "code",
   "execution_count": 6,
   "id": "36105732",
   "metadata": {},
   "outputs": [
    {
     "name": "stdout",
     "output_type": "stream",
     "text": [
      "La dimension de DataFrame « df_Age_FrequenceAchatsClient » : (8600, 4) (lignes, colonnes)\n",
      "\n",
      "<class 'pandas.core.frame.DataFrame'>\n",
      "RangeIndex: 8600 entries, 0 to 8599\n",
      "Data columns (total 4 columns):\n",
      " #   Column         Non-Null Count  Dtype  \n",
      "---  ------         --------------  -----  \n",
      " 0   client_id      8600 non-null   object \n",
      " 1   age            8600 non-null   float64\n",
      " 2   nbr_sessions   8600 non-null   int64  \n",
      " 3   nbr_sessions%  8600 non-null   float64\n",
      "dtypes: float64(2), int64(1), object(1)\n",
      "memory usage: 268.9+ KB\n"
     ]
    },
    {
     "data": {
      "text/plain": [
       "None"
      ]
     },
     "metadata": {},
     "output_type": "display_data"
    },
    {
     "data": {
      "text/html": [
       "<div>\n",
       "<style scoped>\n",
       "    .dataframe tbody tr th:only-of-type {\n",
       "        vertical-align: middle;\n",
       "    }\n",
       "\n",
       "    .dataframe tbody tr th {\n",
       "        vertical-align: top;\n",
       "    }\n",
       "\n",
       "    .dataframe thead th {\n",
       "        text-align: right;\n",
       "    }\n",
       "</style>\n",
       "<table border=\"1\" class=\"dataframe\">\n",
       "  <thead>\n",
       "    <tr style=\"text-align: right;\">\n",
       "      <th></th>\n",
       "      <th>client_id</th>\n",
       "      <th>age</th>\n",
       "      <th>nbr_sessions</th>\n",
       "      <th>nbr_sessions%</th>\n",
       "    </tr>\n",
       "  </thead>\n",
       "  <tbody>\n",
       "    <tr>\n",
       "      <th>0</th>\n",
       "      <td>c_1</td>\n",
       "      <td>67.0</td>\n",
       "      <td>33</td>\n",
       "      <td>0.009641</td>\n",
       "    </tr>\n",
       "    <tr>\n",
       "      <th>1</th>\n",
       "      <td>c_10</td>\n",
       "      <td>66.0</td>\n",
       "      <td>34</td>\n",
       "      <td>0.009934</td>\n",
       "    </tr>\n",
       "    <tr>\n",
       "      <th>2</th>\n",
       "      <td>c_100</td>\n",
       "      <td>30.0</td>\n",
       "      <td>5</td>\n",
       "      <td>0.001461</td>\n",
       "    </tr>\n",
       "    <tr>\n",
       "      <th>3</th>\n",
       "      <td>c_1000</td>\n",
       "      <td>56.0</td>\n",
       "      <td>93</td>\n",
       "      <td>0.027171</td>\n",
       "    </tr>\n",
       "    <tr>\n",
       "      <th>4</th>\n",
       "      <td>c_1001</td>\n",
       "      <td>40.0</td>\n",
       "      <td>47</td>\n",
       "      <td>0.013732</td>\n",
       "    </tr>\n",
       "  </tbody>\n",
       "</table>\n",
       "</div>"
      ],
      "text/plain": [
       "  client_id   age  nbr_sessions  nbr_sessions%\n",
       "0       c_1  67.0            33       0.009641\n",
       "1      c_10  66.0            34       0.009934\n",
       "2     c_100  30.0             5       0.001461\n",
       "3    c_1000  56.0            93       0.027171\n",
       "4    c_1001  40.0            47       0.013732"
      ]
     },
     "metadata": {},
     "output_type": "display_data"
    },
    {
     "data": {
      "text/html": [
       "<div>\n",
       "<style scoped>\n",
       "    .dataframe tbody tr th:only-of-type {\n",
       "        vertical-align: middle;\n",
       "    }\n",
       "\n",
       "    .dataframe tbody tr th {\n",
       "        vertical-align: top;\n",
       "    }\n",
       "\n",
       "    .dataframe thead th {\n",
       "        text-align: right;\n",
       "    }\n",
       "</style>\n",
       "<table border=\"1\" class=\"dataframe\">\n",
       "  <thead>\n",
       "    <tr style=\"text-align: right;\">\n",
       "      <th></th>\n",
       "      <th>count</th>\n",
       "      <th>mean</th>\n",
       "      <th>std</th>\n",
       "      <th>min</th>\n",
       "      <th>25%</th>\n",
       "      <th>50%</th>\n",
       "      <th>75%</th>\n",
       "      <th>max</th>\n",
       "    </tr>\n",
       "  </thead>\n",
       "  <tbody>\n",
       "    <tr>\n",
       "      <th>age</th>\n",
       "      <td>8600.0</td>\n",
       "      <td>43.739302</td>\n",
       "      <td>16.908755</td>\n",
       "      <td>18.000000</td>\n",
       "      <td>30.000000</td>\n",
       "      <td>43.000000</td>\n",
       "      <td>56.000000</td>\n",
       "      <td>93.000000</td>\n",
       "    </tr>\n",
       "    <tr>\n",
       "      <th>nbr_sessions</th>\n",
       "      <td>8600.0</td>\n",
       "      <td>39.799419</td>\n",
       "      <td>144.715605</td>\n",
       "      <td>1.000000</td>\n",
       "      <td>15.000000</td>\n",
       "      <td>26.000000</td>\n",
       "      <td>50.000000</td>\n",
       "      <td>10997.000000</td>\n",
       "    </tr>\n",
       "    <tr>\n",
       "      <th>nbr_sessions%</th>\n",
       "      <td>8600.0</td>\n",
       "      <td>0.011628</td>\n",
       "      <td>0.042281</td>\n",
       "      <td>0.000292</td>\n",
       "      <td>0.004382</td>\n",
       "      <td>0.007596</td>\n",
       "      <td>0.014608</td>\n",
       "      <td>3.212914</td>\n",
       "    </tr>\n",
       "  </tbody>\n",
       "</table>\n",
       "</div>"
      ],
      "text/plain": [
       "                count       mean         std        min        25%        50%  \\\n",
       "age            8600.0  43.739302   16.908755  18.000000  30.000000  43.000000   \n",
       "nbr_sessions   8600.0  39.799419  144.715605   1.000000  15.000000  26.000000   \n",
       "nbr_sessions%  8600.0   0.011628    0.042281   0.000292   0.004382   0.007596   \n",
       "\n",
       "                     75%           max  \n",
       "age            56.000000     93.000000  \n",
       "nbr_sessions   50.000000  10997.000000  \n",
       "nbr_sessions%   0.014608      3.212914  "
      ]
     },
     "metadata": {},
     "output_type": "display_data"
    },
    {
     "data": {
      "text/plain": [
       "client_id        8600\n",
       "age                76\n",
       "nbr_sessions      165\n",
       "nbr_sessions%     165\n",
       "dtype: int64"
      ]
     },
     "metadata": {},
     "output_type": "display_data"
    }
   ],
   "source": [
    "# Visualisualisation de df_QT_QT_ClientAgeCA\n",
    "analyseDataFrame(df_Age_FrequenceAchatsClient)"
   ]
  },
  {
   "cell_type": "markdown",
   "id": "62ba8076",
   "metadata": {},
   "source": [
    "# Visualisation de distribution de chaque variable"
   ]
  },
  {
   "cell_type": "code",
   "execution_count": 7,
   "id": "a7268b52",
   "metadata": {},
   "outputs": [
    {
     "data": {
      "image/png": "[encoded data removed]",
      "text/plain": [
       "<Figure size 864x360 with 1 Axes>"
      ]
     },
     "metadata": {},
     "output_type": "display_data"
    },
    {
     "data": {
      "image/png": "[encoded data removed]",
      "text/plain": [
       "<Figure size 864x360 with 1 Axes>"
      ]
     },
     "metadata": {},
     "output_type": "display_data"
    }
   ],
   "source": [
    "sns.set_style('ticks') # Parameters style dict, or one of {darkgrid, whitegrid, dark, white, ticks}\n",
    "\n",
    "sns.set_context('paper') # Parameters context dict, or one of {paper, notebook, talk, poster}\n",
    "\n",
    "plt.figure(figsize = (12,5))\n",
    "\n",
    "_ = sns.histplot(df_Age_FrequenceAchatsClient[\"age\"], color='red', kde=True, stat=\"density\", linewidth=0)\n",
    "\n",
    "_ = plt.axvline(x=df_Age_FrequenceAchatsClient[\"age\"].mean(), label='Moyenne', linestyle='-', linewidth=2, color='red')\n",
    "_ = plt.axvline(x=df_Age_FrequenceAchatsClient[\"age\"].median(), label='Médiane', linestyle='--', linewidth=2, color='red')\n",
    "_ = plt.title(\"Distribution de l'âge des clients\", fontsize=18)\n",
    "_ = plt.ylabel(\"Individues (clients)\", fontsize=12)\n",
    "_ = plt.xlabel(\"Âge\", fontsize=12)\n",
    "_ = plt.legend(prop={'size': 12})\n",
    "_ = plt.show()\n",
    "\n",
    "plt.figure(figsize = (12,5))\n",
    "_ = sns.histplot(df_Age_FrequenceAchatsClient[\"nbr_sessions\"], color='blue', binwidth=2,  kde=True, stat=\"density\", linewidth=0)\n",
    "\n",
    "_ = plt.axvline(x=df_Age_FrequenceAchatsClient[\"nbr_sessions\"].mean(), label='Moyenne', linestyle='-', linewidth=2, color='blue')\n",
    "_ = plt.axvline(x=df_Age_FrequenceAchatsClient[\"nbr_sessions\"].median(), label='Médiane', linestyle='--', linewidth=2, color='blue')\n",
    "_ = plt.title(\"Distribution d'achat des clients'\", fontsize=18)\n",
    "_ = plt.ylabel(\"Individues (clients)\", fontsize=12)\n",
    "_ = plt.xlabel(\"nbr_sessions\", fontsize=12)\n",
    "_ = plt.legend(prop={'size': 12})\n",
    "_ = plt.show()\n",
    "\n",
    "# _ = plt.tight_layout()\n",
    "\n",
    "_ = plt.show()"
   ]
  },
  {
   "cell_type": "markdown",
   "id": "92046b14",
   "metadata": {},
   "source": [
    "# Test de normalité"
   ]
  },
  {
   "cell_type": "markdown",
   "id": "40ec984e",
   "metadata": {},
   "source": [
    "### Test de normalité Smirnov-Kolmogorov"
   ]
  },
  {
   "cell_type": "code",
   "execution_count": 8,
   "id": "e6c0f394",
   "metadata": {},
   "outputs": [
    {
     "name": "stdout",
     "output_type": "stream",
     "text": [
      "Premier test Smirnov-Kolmogorov -----------------------------------------------------------\n",
      "Statistics=1.000, p=0.000\n",
      "L'échantillon 'Âge' ne semble pas avoir une distribution Gaussienne (rejeter H0)\n",
      "\n",
      "Deuxième test Smirnov-Kolmogorov -----------------------------------------------------------\n",
      "Statistics=0.988, p=0.000\n",
      "L'échantillon 'nbr_sessions' ne semble pas avoir une distribution Gaussienne (rejeter H0)\n",
      "\n"
     ]
    }
   ],
   "source": [
    "\n",
    "print(\"Premier test Smirnov-Kolmogorov -----------------------------------------------------------\")\n",
    "df_name = 'Âge'\n",
    "\n",
    "stat, p_value = st.kstest(df_Age_FrequenceAchatsClient['age'], 'norm')\n",
    "print('Statistics=%.3f, p=%.3f' % (stat, p_value))\n",
    "\n",
    "alpha = 0.05\n",
    "\n",
    "if p_value > alpha:\n",
    "    print(f\"L'échantillon '{df_name}' semble avoir une distribution Gaussienne (ne pas rejeter H0)\")\n",
    "else:\n",
    "    print(f\"L'échantillon '{df_name}' ne semble pas avoir une distribution Gaussienne (rejeter H0)\")\n",
    "print()\n",
    "# Interprétation : si la valeur-p est inférieure à une seuil α qu’on s’est donné (en général, 5%),\n",
    "# alors on rejette H0.\n",
    "\n",
    "print(\"Deuxième test Smirnov-Kolmogorov -----------------------------------------------------------\")\n",
    "df_name = 'nbr_sessions'\n",
    "\n",
    "stat, p_value = st.kstest(df_Age_FrequenceAchatsClient['nbr_sessions'], 'norm')\n",
    "print('Statistics=%.3f, p=%.3f' % (stat, p_value))\n",
    "\n",
    "alpha = 0.05\n",
    "\n",
    "if p_value > alpha:\n",
    "    print(f\"L'échantillon '{df_name}' semble avoir une distribution Gaussienne (ne pas rejeter H0)\")\n",
    "else:\n",
    "    print(f\"L'échantillon '{df_name}' ne semble pas avoir une distribution Gaussienne (rejeter H0)\")\n",
    "print()\n",
    "# Interprétation : si la valeur-p est inférieure à une seuil α qu’on s’est donné (en général, 5%),\n",
    "# alors on rejette H0."
   ]
  },
  {
   "cell_type": "markdown",
   "id": "ea4443b7",
   "metadata": {},
   "source": [
    "# Test de corrélation"
   ]
  },
  {
   "cell_type": "code",
   "execution_count": 9,
   "id": "5c29ff04",
   "metadata": {},
   "outputs": [
    {
     "name": "stdout",
     "output_type": "stream",
     "text": [
      "r de Pearson          : 0.03414006681125429\n",
      "indice de covariation : 83.52968564088695\n",
      "r-squared             :  0.0011655441618769065  (le coefficient de détermination)\n",
      "p-value               :  0.001542947178738423\n",
      "\n",
      "Probablement dependente :\n",
      "Probablement la variable « Âge » est liée à la variable « Nombre de sessions »\n",
      "\n"
     ]
    }
   ],
   "source": [
    "x = df_Age_FrequenceAchatsClient[\"age\"]\n",
    "y = df_Age_FrequenceAchatsClient[\"nbr_sessions\"]\n",
    "\n",
    "x_name = \"Âge\"\n",
    "y_name = \"Nombre de sessions\"\n",
    "\n",
    "alpha = 0.05\n",
    "\n",
    "r_pearson, p_value = st.pearsonr(x, y)\n",
    "\n",
    "# r de Pearson\n",
    "print('r de Pearson          :', r_pearson)\n",
    "\n",
    "\n",
    "# indice de covariation\n",
    "print('indice de covariation :', np.cov(x, y, ddof=0)[1,0])\n",
    "\n",
    "# Coefficient de détermination / R2 / r-squared\n",
    "print('r-squared             : ', r_pearson**2, \" (le coefficient de détermination)\")\n",
    "\n",
    "print('p-value               : ', p_value)\n",
    "\n",
    "print()\n",
    "\n",
    "if p_value > alpha:\n",
    "    print(\"Probablement independente :\")\n",
    "    print(f\"Probablement la variable « {x_name} » n'est pas liée à la variable « {y_name} »\")\n",
    "else:\n",
    "    print(\"Probablement dependente :\")\n",
    "    print(f\"Probablement la variable « {x_name} » est liée à la variable « {y_name} »\")\n",
    "print()"
   ]
  },
  {
   "cell_type": "code",
   "execution_count": 10,
   "id": "496d8918",
   "metadata": {},
   "outputs": [
    {
     "data": {
      "text/plain": [
       "[<matplotlib.lines.Line2D at 0x7fab782041c0>]"
      ]
     },
     "execution_count": 10,
     "metadata": {},
     "output_type": "execute_result"
    },
    {
     "data": {
      "image/png": "[encoded data removed]",
      "text/plain": [
       "<Figure size 432x288 with 1 Axes>"
      ]
     },
     "metadata": {},
     "output_type": "display_data"
    }
   ],
   "source": [
    "#linregress() renvoie plusieurs variables de retour. On s'interessera \n",
    "# particulierement au slope et intercept\n",
    "slope, intercept, r_value, p_value, std_err = st.linregress(df_Age_FrequenceAchatsClient[\"age\"],\n",
    "                                                            df_Age_FrequenceAchatsClient[\"nbr_sessions\"])\n",
    "\n",
    "plt.plot(df_Age_FrequenceAchatsClient[\"age\"],df_Age_FrequenceAchatsClient[\"nbr_sessions\"],'bo')\n",
    "plt.xlabel(\"Âge\")\n",
    "plt.ylabel(\"Nombre de sessions\")\n",
    "#la variable fitLine sera un tableau de valeurs prédites depuis la tableau de variables X\n",
    "#fitLine = predict(df_QT_QT_ClientAgeCA['age'])\n",
    "fitLine = slope * df_Age_FrequenceAchatsClient[\"age\"] + intercept\n",
    "plt.plot(df_Age_FrequenceAchatsClient[\"age\"], fitLine, c='r')"
   ]
  },
  {
   "cell_type": "code",
   "execution_count": 11,
   "id": "f50e8f83",
   "metadata": {},
   "outputs": [
    {
     "data": {
      "text/html": [
       "<div>\n",
       "<style scoped>\n",
       "    .dataframe tbody tr th:only-of-type {\n",
       "        vertical-align: middle;\n",
       "    }\n",
       "\n",
       "    .dataframe tbody tr th {\n",
       "        vertical-align: top;\n",
       "    }\n",
       "\n",
       "    .dataframe thead th {\n",
       "        text-align: right;\n",
       "    }\n",
       "</style>\n",
       "<table border=\"1\" class=\"dataframe\">\n",
       "  <thead>\n",
       "    <tr style=\"text-align: right;\">\n",
       "      <th></th>\n",
       "      <th>client_id</th>\n",
       "      <th>age</th>\n",
       "      <th>nbr_sessions</th>\n",
       "      <th>nbr_sessions%</th>\n",
       "    </tr>\n",
       "  </thead>\n",
       "  <tbody>\n",
       "    <tr>\n",
       "      <th>677</th>\n",
       "      <td>c_1609</td>\n",
       "      <td>42.0</td>\n",
       "      <td>10997</td>\n",
       "      <td>3.212914</td>\n",
       "    </tr>\n",
       "    <tr>\n",
       "      <th>2724</th>\n",
       "      <td>c_3454</td>\n",
       "      <td>53.0</td>\n",
       "      <td>5570</td>\n",
       "      <td>1.627346</td>\n",
       "    </tr>\n",
       "    <tr>\n",
       "      <th>4388</th>\n",
       "      <td>c_4958</td>\n",
       "      <td>23.0</td>\n",
       "      <td>3851</td>\n",
       "      <td>1.125119</td>\n",
       "    </tr>\n",
       "    <tr>\n",
       "      <th>6337</th>\n",
       "      <td>c_6714</td>\n",
       "      <td>54.0</td>\n",
       "      <td>2620</td>\n",
       "      <td>0.765466</td>\n",
       "    </tr>\n",
       "  </tbody>\n",
       "</table>\n",
       "</div>"
      ],
      "text/plain": [
       "     client_id   age  nbr_sessions  nbr_sessions%\n",
       "677     c_1609  42.0         10997       3.212914\n",
       "2724    c_3454  53.0          5570       1.627346\n",
       "4388    c_4958  23.0          3851       1.125119\n",
       "6337    c_6714  54.0          2620       0.765466"
      ]
     },
     "metadata": {},
     "output_type": "display_data"
    },
    {
     "name": "stdout",
     "output_type": "stream",
     "text": [
      "Probablement des clients B2B\n"
     ]
    }
   ],
   "source": [
    "B2B = df_Age_FrequenceAchatsClient[df_Age_FrequenceAchatsClient[\"nbr_sessions\"]>= 2000]\n",
    "\n",
    "display(B2B)\n",
    "\n",
    "print(\"Probablement des clients B2B\")"
   ]
  },
  {
   "cell_type": "code",
   "execution_count": 12,
   "id": "834df896",
   "metadata": {},
   "outputs": [],
   "source": [
    "# Eliminer les clients B2B pour refaire le test de corrélation et affichier le graphique de la distribution en nuage de points \n",
    "df_Age_FrequenceAchatsClient = df_Age_FrequenceAchatsClient[df_Age_FrequenceAchatsClient[\"nbr_sessions\"] < 2000]\n"
   ]
  },
  {
   "cell_type": "markdown",
   "id": "bf053c67",
   "metadata": {},
   "source": [
    "# Test de corrélation pour B2C"
   ]
  },
  {
   "cell_type": "code",
   "execution_count": 13,
   "id": "90686253",
   "metadata": {},
   "outputs": [
    {
     "name": "stdout",
     "output_type": "stream",
     "text": [
      "r de Pearson          : 0.16457484966114305\n",
      "indice de covariation : 85.94398779416487\n",
      "r-squared             :  0.027084881140987838  (le coefficient de détermination)\n",
      "p-value               :  2.983595542499202e-53\n",
      "\n",
      "Probablement dependente :\n",
      "Probablement la variable « Âge » est liée à la variable « Nombre de sessions »\n",
      "\n"
     ]
    }
   ],
   "source": [
    "x = df_Age_FrequenceAchatsClient[\"age\"]\n",
    "y = df_Age_FrequenceAchatsClient[\"nbr_sessions\"]\n",
    "\n",
    "x_name = \"Âge\"\n",
    "y_name = \"Nombre de sessions\"\n",
    "\n",
    "alpha = 0.05\n",
    "\n",
    "r_pearson, p_value = st.pearsonr(x, y)\n",
    "\n",
    "# r de Pearson\n",
    "print('r de Pearson          :', r_pearson)\n",
    "\n",
    "\n",
    "# indice de covariation    \n",
    "print('indice de covariation :', np.cov(x, y, ddof=0)[1,0])\n",
    "\n",
    "# Coefficient de détermination / R2 / r-squared\n",
    "print('r-squared             : ', r_pearson**2, \" (le coefficient de détermination)\")\n",
    "\n",
    "print('p-value               : ', p_value)\n",
    "\n",
    "print()\n",
    "\n",
    "if p_value > alpha:\n",
    "    print(\"Probablement independente :\")\n",
    "    print(f\"Probablement la variable « {x_name} » n'est pas liée à la variable « {y_name} »\")\n",
    "else:\n",
    "    print(\"Probablement dependente :\")\n",
    "    print(f\"Probablement la variable « {x_name} » est liée à la variable « {y_name} »\")\n",
    "print()"
   ]
  },
  {
   "cell_type": "code",
   "execution_count": 14,
   "id": "18a4079a",
   "metadata": {},
   "outputs": [
    {
     "data": {
      "text/plain": [
       "[<matplotlib.lines.Line2D at 0x7fab7868c2b0>]"
      ]
     },
     "execution_count": 14,
     "metadata": {},
     "output_type": "execute_result"
    },
    {
     "data": {
      "image/png": "[encoded data removed]",
      "text/plain": [
       "<Figure size 432x288 with 1 Axes>"
      ]
     },
     "metadata": {},
     "output_type": "display_data"
    }
   ],
   "source": [
    "#linregress() renvoie plusieurs variables de retour. On s'interessera \n",
    "# particulierement au slope et intercept\n",
    "slope, intercept, r_value, p_value, std_err = st.linregress(df_Age_FrequenceAchatsClient[\"age\"],\n",
    "                                                            df_Age_FrequenceAchatsClient[\"nbr_sessions\"])\n",
    "\n",
    "plt.plot(df_Age_FrequenceAchatsClient[\"age\"],df_Age_FrequenceAchatsClient[\"nbr_sessions\"],'bo')\n",
    "plt.xlabel(\"Âge\")\n",
    "plt.ylabel(\"Nombre de sessions\")\n",
    "#la variable fitLine sera un tableau de valeurs prédites depuis la tableau de variables X\n",
    "#fitLine = predict(df_QT_QT_ClientAgeCA['age'])\n",
    "fitLine = slope * df_Age_FrequenceAchatsClient[\"age\"] + intercept\n",
    "plt.plot(df_Age_FrequenceAchatsClient[\"age\"], fitLine, c='r')"
   ]
  },
  {
   "cell_type": "code",
   "execution_count": 15,
   "id": "7f8b7555",
   "metadata": {},
   "outputs": [
    {
     "name": "stdout",
     "output_type": "stream",
     "text": [
      "(5631, 4)\n"
     ]
    },
    {
     "data": {
      "text/html": [
       "<div>\n",
       "<style scoped>\n",
       "    .dataframe tbody tr th:only-of-type {\n",
       "        vertical-align: middle;\n",
       "    }\n",
       "\n",
       "    .dataframe tbody tr th {\n",
       "        vertical-align: top;\n",
       "    }\n",
       "\n",
       "    .dataframe thead th {\n",
       "        text-align: right;\n",
       "    }\n",
       "</style>\n",
       "<table border=\"1\" class=\"dataframe\">\n",
       "  <thead>\n",
       "    <tr style=\"text-align: right;\">\n",
       "      <th></th>\n",
       "      <th>client_id</th>\n",
       "      <th>age</th>\n",
       "      <th>nbr_sessions</th>\n",
       "      <th>nbr_sessions%</th>\n",
       "    </tr>\n",
       "  </thead>\n",
       "  <tbody>\n",
       "    <tr>\n",
       "      <th>2</th>\n",
       "      <td>c_100</td>\n",
       "      <td>30.0</td>\n",
       "      <td>5</td>\n",
       "      <td>0.001461</td>\n",
       "    </tr>\n",
       "    <tr>\n",
       "      <th>4</th>\n",
       "      <td>c_1001</td>\n",
       "      <td>40.0</td>\n",
       "      <td>47</td>\n",
       "      <td>0.013732</td>\n",
       "    </tr>\n",
       "    <tr>\n",
       "      <th>5</th>\n",
       "      <td>c_1002</td>\n",
       "      <td>40.0</td>\n",
       "      <td>19</td>\n",
       "      <td>0.005551</td>\n",
       "    </tr>\n",
       "    <tr>\n",
       "      <th>6</th>\n",
       "      <td>c_1003</td>\n",
       "      <td>40.0</td>\n",
       "      <td>45</td>\n",
       "      <td>0.013147</td>\n",
       "    </tr>\n",
       "    <tr>\n",
       "      <th>7</th>\n",
       "      <td>c_1004</td>\n",
       "      <td>49.0</td>\n",
       "      <td>32</td>\n",
       "      <td>0.009349</td>\n",
       "    </tr>\n",
       "  </tbody>\n",
       "</table>\n",
       "</div>"
      ],
      "text/plain": [
       "  client_id   age  nbr_sessions  nbr_sessions%\n",
       "2     c_100  30.0             5       0.001461\n",
       "4    c_1001  40.0            47       0.013732\n",
       "5    c_1002  40.0            19       0.005551\n",
       "6    c_1003  40.0            45       0.013147\n",
       "7    c_1004  49.0            32       0.009349"
      ]
     },
     "metadata": {},
     "output_type": "display_data"
    }
   ],
   "source": [
    "df_moins_50ans = df_Age_FrequenceAchatsClient[df_Age_FrequenceAchatsClient['age']<=50]\n",
    "print(df_moins_50ans.shape)\n",
    "display(df_moins_50ans.head())"
   ]
  },
  {
   "cell_type": "code",
   "execution_count": 16,
   "id": "9a0edbd2",
   "metadata": {},
   "outputs": [
    {
     "name": "stdout",
     "output_type": "stream",
     "text": [
      "r de Pearson          : 0.3897374532348376\n",
      "indice de covariation : 120.21572127756005\n",
      "r-squared             :  0.15189528245397724  (le coefficient de détermination)\n",
      "p-value               :  1.139100314756195e-203\n",
      "\n",
      "Probablement dependente :\n",
      "Probablement la variable « Âge » est liée à la variable « Nombre de sessions »\n",
      "\n"
     ]
    }
   ],
   "source": [
    "x = df_moins_50ans[\"age\"]\n",
    "y = df_moins_50ans[\"nbr_sessions\"]\n",
    "\n",
    "x_name = \"Âge\"\n",
    "y_name = \"Nombre de sessions\"\n",
    "\n",
    "alpha = 0.05\n",
    "\n",
    "r_pearson, p_value = st.pearsonr(x, y)\n",
    "\n",
    "# r de Pearson\n",
    "print('r de Pearson          :', r_pearson)\n",
    "\n",
    "\n",
    "# indice de covariation\n",
    "print('indice de covariation :', np.cov(x, y, ddof=0)[1,0])\n",
    "\n",
    "# Coefficient de détermination / R2 / r-squared\n",
    "print('r-squared             : ', r_pearson**2, \" (le coefficient de détermination)\")\n",
    "\n",
    "print('p-value               : ', p_value)\n",
    "\n",
    "print()\n",
    "\n",
    "if p_value > alpha:\n",
    "    print(\"Probablement independente :\")\n",
    "    print(f\"Probablement la variable « {x_name} » n'est pas liée à la variable « {y_name} »\")\n",
    "else:\n",
    "    print(\"Probablement dependente :\")\n",
    "    print(f\"Probablement la variable « {x_name} » est liée à la variable « {y_name} »\")\n",
    "print()"
   ]
  },
  {
   "cell_type": "code",
   "execution_count": 17,
   "id": "2c193929",
   "metadata": {},
   "outputs": [
    {
     "data": {
      "text/plain": [
       "[<matplotlib.lines.Line2D at 0x7fab78293d60>]"
      ]
     },
     "execution_count": 17,
     "metadata": {},
     "output_type": "execute_result"
    },
    {
     "data": {
      "image/png": "[encoded data removed]",
      "text/plain": [
       "<Figure size 432x288 with 1 Axes>"
      ]
     },
     "metadata": {},
     "output_type": "display_data"
    }
   ],
   "source": [
    "#linregress() renvoie plusieurs variables de retour. On s'interessera \n",
    "# particulierement au slope et intercept\n",
    "slope, intercept, r_value, p_value, std_err = st.linregress(df_moins_50ans[\"age\"],\n",
    "                                                            df_moins_50ans[\"nbr_sessions\"])\n",
    "\n",
    "plt.plot(df_moins_50ans[\"age\"],df_moins_50ans[\"nbr_sessions\"],'bo')\n",
    "plt.xlabel(\"Âge\")\n",
    "plt.ylabel(\"Nombre de sessions\")\n",
    "#la variable fitLine sera un tableau de valeurs prédites depuis la tableau de variables X\n",
    "#fitLine = predict(df_QT_QT_ClientAgeCA['age'])\n",
    "fitLine = slope * df_moins_50ans[\"age\"] + intercept\n",
    "plt.plot(df_moins_50ans[\"age\"], fitLine, c='r')"
   ]
  },
  {
   "cell_type": "code",
   "execution_count": 18,
   "id": "fb617624",
   "metadata": {},
   "outputs": [
    {
     "name": "stdout",
     "output_type": "stream",
     "text": [
      "(2965, 4)\n"
     ]
    },
    {
     "data": {
      "text/html": [
       "<div>\n",
       "<style scoped>\n",
       "    .dataframe tbody tr th:only-of-type {\n",
       "        vertical-align: middle;\n",
       "    }\n",
       "\n",
       "    .dataframe tbody tr th {\n",
       "        vertical-align: top;\n",
       "    }\n",
       "\n",
       "    .dataframe thead th {\n",
       "        text-align: right;\n",
       "    }\n",
       "</style>\n",
       "<table border=\"1\" class=\"dataframe\">\n",
       "  <thead>\n",
       "    <tr style=\"text-align: right;\">\n",
       "      <th></th>\n",
       "      <th>client_id</th>\n",
       "      <th>age</th>\n",
       "      <th>nbr_sessions</th>\n",
       "      <th>nbr_sessions%</th>\n",
       "    </tr>\n",
       "  </thead>\n",
       "  <tbody>\n",
       "    <tr>\n",
       "      <th>0</th>\n",
       "      <td>c_1</td>\n",
       "      <td>67.0</td>\n",
       "      <td>33</td>\n",
       "      <td>0.009641</td>\n",
       "    </tr>\n",
       "    <tr>\n",
       "      <th>1</th>\n",
       "      <td>c_10</td>\n",
       "      <td>66.0</td>\n",
       "      <td>34</td>\n",
       "      <td>0.009934</td>\n",
       "    </tr>\n",
       "    <tr>\n",
       "      <th>3</th>\n",
       "      <td>c_1000</td>\n",
       "      <td>56.0</td>\n",
       "      <td>93</td>\n",
       "      <td>0.027171</td>\n",
       "    </tr>\n",
       "    <tr>\n",
       "      <th>8</th>\n",
       "      <td>c_1005</td>\n",
       "      <td>81.0</td>\n",
       "      <td>23</td>\n",
       "      <td>0.006720</td>\n",
       "    </tr>\n",
       "    <tr>\n",
       "      <th>10</th>\n",
       "      <td>c_1007</td>\n",
       "      <td>81.0</td>\n",
       "      <td>19</td>\n",
       "      <td>0.005551</td>\n",
       "    </tr>\n",
       "  </tbody>\n",
       "</table>\n",
       "</div>"
      ],
      "text/plain": [
       "   client_id   age  nbr_sessions  nbr_sessions%\n",
       "0        c_1  67.0            33       0.009641\n",
       "1       c_10  66.0            34       0.009934\n",
       "3     c_1000  56.0            93       0.027171\n",
       "8     c_1005  81.0            23       0.006720\n",
       "10    c_1007  81.0            19       0.005551"
      ]
     },
     "metadata": {},
     "output_type": "display_data"
    }
   ],
   "source": [
    "df_plus_50ans = df_Age_FrequenceAchatsClient[df_Age_FrequenceAchatsClient['age']>50]\n",
    "print(df_plus_50ans.shape)\n",
    "display(df_plus_50ans.head())"
   ]
  },
  {
   "cell_type": "code",
   "execution_count": 19,
   "id": "a619bf71",
   "metadata": {},
   "outputs": [
    {
     "name": "stdout",
     "output_type": "stream",
     "text": [
      "r de Pearson          : -0.03822115972990507\n",
      "indice de covariation : -10.440403584255892\n",
      "r-squared             :  0.001460857051098917  (le coefficient de détermination)\n",
      "p-value               :  0.03742527764295783\n",
      "\n",
      "Probablement dependente :\n",
      "Probablement la variable « Âge » est liée à la variable « Nombre de sessions »\n",
      "\n"
     ]
    }
   ],
   "source": [
    "x = df_plus_50ans[\"age\"]\n",
    "y = df_plus_50ans[\"nbr_sessions\"]\n",
    "\n",
    "x_name = \"Âge\"\n",
    "y_name = \"Nombre de sessions\"\n",
    "\n",
    "alpha = 0.05\n",
    "\n",
    "r_pearson, p_value = st.pearsonr(x, y)\n",
    "\n",
    "# r de Pearson\n",
    "print('r de Pearson          :', r_pearson)\n",
    "\n",
    "\n",
    "# indice de covariation    \n",
    "print('indice de covariation :', np.cov(x, y, ddof=0)[1,0])\n",
    "\n",
    "# Coefficient de détermination / R2 / r-squared\n",
    "print('r-squared             : ', r_pearson**2, \" (le coefficient de détermination)\")\n",
    "\n",
    "print('p-value               : ', p_value)\n",
    "\n",
    "print()\n",
    "\n",
    "if p_value > alpha:\n",
    "    print(\"Probablement independente :\")\n",
    "    print(f\"Probablement la variable « {x_name} » n'est pas liée à la variable « {y_name} »\")\n",
    "else:\n",
    "    print(\"Probablement dependente :\")\n",
    "    print(f\"Probablement la variable « {x_name} » est liée à la variable « {y_name} »\")\n",
    "print()"
   ]
  },
  {
   "cell_type": "code",
   "execution_count": 20,
   "id": "807b3051",
   "metadata": {},
   "outputs": [
    {
     "data": {
      "text/plain": [
       "[<matplotlib.lines.Line2D at 0x7fab7875de20>]"
      ]
     },
     "execution_count": 20,
     "metadata": {},
     "output_type": "execute_result"
    },
    {
     "data": {
      "image/png": "[encoded data removed]",
      "text/plain": [
       "<Figure size 432x288 with 1 Axes>"
      ]
     },
     "metadata": {},
     "output_type": "display_data"
    }
   ],
   "source": [
    "#linregress() renvoie plusieurs variables de retour. On s'interessera \n",
    "# particulierement au slope et intercept\n",
    "slope, intercept, r_value, p_value, std_err = st.linregress(df_plus_50ans[\"age\"],\n",
    "                                                            df_plus_50ans[\"nbr_sessions\"])\n",
    "\n",
    "plt.plot(df_plus_50ans[\"age\"],df_plus_50ans[\"nbr_sessions\"],'bo')\n",
    "plt.xlabel(\"Âge\")\n",
    "plt.ylabel(\"Nombre de sessions\")\n",
    "#la variable fitLine sera un tableau de valeurs prédites depuis la tableau de variables X\n",
    "#fitLine = predict(df_QT_QT_ClientAgeCA['age'])\n",
    "fitLine = slope * df_plus_50ans[\"age\"] + intercept\n",
    "plt.plot(df_plus_50ans[\"age\"], fitLine, c='r')"
   ]
  }
 ],
 "metadata": {
  "kernelspec": {
   "display_name": "Python 3 (ipykernel)",
   "language": "python",
   "name": "python3"
  },
  "language_info": {
   "codemirror_mode": {
    "name": "ipython",
    "version": 3
   },
   "file_extension": ".py",
   "mimetype": "text/x-python",
   "name": "python",
   "nbconvert_exporter": "python",
   "pygments_lexer": "ipython3",
   "version": "3.9.12"
  }
 },
 "nbformat": 4,
 "nbformat_minor": 5
}
